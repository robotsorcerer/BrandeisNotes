{
 "cells": [
  {
   "cell_type": "markdown",
   "metadata": {},
   "source": [
    "## Overview\n",
    "\n",
    "Throughout this course, we will be leveraging Google's Colab Notebooks to reinforce the concepts we have been learning in class. For an introduction into how to use collab, in case you are not already familiar with it, have a go at this [overview of Colaboratory features](https://colab.research.google.com/notebooks/basic_features_overview.ipynb#scrollTo=Id6tDF1HQSHD)."
   ]
  },
  {
   "cell_type": "markdown",
   "metadata": {},
   "source": [
    "### Kabsch's Algorithm\n",
    "\n",
    "As stated in the course notes, the Kabsch algorithm is a very versatile tool for optimally aligning two vectors to one another. In this example, we are provided with two point sets - a model set and a point (measured) set, and our goal would be to compute the optimal rotation matrix $U$ that allows us to efficiently rotate the point set into the model set. "
   ]
  },
  {
   "cell_type": "markdown",
   "metadata": {},
   "source": [
    "### Load the Measured Point Set\n",
    "\n",
    "For the example we are interested in, we have measured the position of an object in 3D space using a Northern Digital Inc's [Polaris Camera](https://www.ndigital.com/products/). The points are collected as a set of three-dimensional (3D) points in space, arranged in rows of `(x,y,z)` tuples and they are as given by the `measured_points_full` function below:"
   ]
  },
  {
   "cell_type": "code",
   "execution_count": 9,
   "metadata": {},
   "outputs": [],
   "source": [
    "# Here, we are importing all the libraries we will be using in these notebook\n",
    "import os\n",
    "import numpy as np\n",
    "from os.path import join, expanduser\n",
    "import scipy.linalg as LA"
   ]
  },
  {
   "cell_type": "code",
   "execution_count": 8,
   "metadata": {},
   "outputs": [],
   "source": [
    "def measured_points_full():\n",
    "    # these are the (x,y,z) tuples\n",
    "    pre_calib = {\n",
    "        '0,0.0': [-369.88531494140625, 101.30087280273438, -1960.3780517578125],\n",
    "        '200,0': [-369.8937683105469, 101.32111358642578, -1960.302734375],\n",
    "        '0,0.1': [-369.8780212402344, 101.32646942138672, -1960.353271484375],\n",
    "        '220,0': [-369.8780212402344, 101.32646942138672, -1960.353271484375],\n",
    "        '0,0.2': [-367.74957275390625, 101.65080261230469, -1953.7960205078125],\n",
    "        '240,0': [-370.8532409667969, 101.074951171875, -1942.255126953125],\n",
    "        '0,0.3': [-366.7646484375, 101.17594909667969, -1949.628173828125],\n",
    "        '255,0': [-381.33837890625, 97.10205078125, -1920.667236328125],\n",
    "        '0,0.4': [-368.0609436035156, 100.83153533935547, -1953.857177734375],\n",
    "        '0,220': [-382.8047790527344, 100.34918975830078, -1944.807373046875],\n",
    "        '0,0.5': [-369.7981262207031, 100.01362609863281, -1958.6396484375],\n",
    "        '0,240': [-382.71600341796875, 99.87244415283203, -1945.184326171875],\n",
    "        '0,0.6': [-370.24237060546875, 98.66026306152344, -1957.2281494140625],\n",
    "        '0,255': [-382.71600341796875, 99.87244415283203, -1945.184326171875],\n",
    "        '0,0.7': [-370.1295166015625, 98.33242797851562, -1956.1732177734375],\n",
    "        }\n",
    "    def exp(x):\n",
    "        'This function expands the array along the second dimension so that '\n",
    "        return np.expand_dims(x, 1)\n",
    "    \n",
    "    # sort pre-recorded points in the order.\n",
    "    measured_calib = np.array(([[\n",
    "                                pre_calib['0,0.0'],\n",
    "                                pre_calib['0,220'],\n",
    "                                pre_calib['0,0.1'],\n",
    "                                pre_calib['0,240'],\n",
    "                                pre_calib['0,0.2'],\n",
    "                                pre_calib['0,255'],\n",
    "                                pre_calib['0,0.3'],\n",
    "                                pre_calib['200,0'],\n",
    "                                pre_calib['0,0.4'],\n",
    "                                pre_calib['220,0'],\n",
    "                                pre_calib['0,0.5'],\n",
    "                                pre_calib['240,0'],\n",
    "                                pre_calib['0,0.6'],\n",
    "                                pre_calib['255,0'],\n",
    "                                pre_calib['0,0.7'],\n",
    "                            ]]))\n",
    "    \"\"\"\n",
    "     As it is currently, our array has 3 dimensions. We need to reduce the size of the \n",
    "     array alongthe singleton dimention for efficient matrix manipulations, hence why we \n",
    "     are squeezing the matrix\n",
    "    \"\"\"\n",
    "    measured_calib_zero_centered = np.array(([0, 0, 0]))\n",
    "    for i in range(len(measured_calib)):\n",
    "        ' find the centroid of the points '\n",
    "        centered = measured_calib[i] - np.min(measured_calib, 0)\n",
    "        measured_calib_zero_centered = np.vstack((measured_calib_zero_centered, centered)) \n",
    "    measured_calib_zero_centered = measured_calib_zero_centered[1:]\n",
    "\n",
    "    return measured_calib_zero_centered"
   ]
  },
  {
   "cell_type": "markdown",
   "metadata": {},
   "source": [
    "### Load the model set\n",
    "\n",
    "It now behooves us to load the model set so we can begin our Kabsch computation. For this, we have them saved in a numpy array. Therefore, we will import numpy as well as associated and needed libraries necessary for our computation."
   ]
  },
  {
   "cell_type": "code",
   "execution_count": 12,
   "metadata": {},
   "outputs": [],
   "source": [
    "model_points = np.array((\n",
    "                        [[-1755.87720294,   866.87898685,   283.0353811 ],\n",
    "                         [-1755.76266696,   866.8540598,    282.9782946 ],\n",
    "                         [-1758.9453555,    857.8363267,    296.13326449],\n",
    "                         [-1759.02853104,   865.92774874,   283.52951211],\n",
    "                         [-1777.42772925,   826.8692224,    293.38292356],\n",
    "                         [-1784.34737705,   836.7521396,    281.74652354],\n",
    "                         [-1777.77335781,   826.96331701,   292.88727602],\n",
    "                         [-1783.56649649,   836.45510137,   281.56390533],\n",
    "                         [-1783.53245361,   836.46510174,   281.54257437],\n",
    "                         [-1783.6947516,    836.55773878,   281.52364873],\n",
    "                         [-1783.58522171,   836.46979064,   281.55684051],\n",
    "                         [-1783.66230977,   836.54098015,   281.50709046],\n",
    "                         [-1783.52724697,   836.44927943,   281.56064662],\n",
    "                         [-1783.59681243,   836.52118858,   281.52347799],\n",
    "                         [-1783.44129296,   836.40624764,   281.5671847 ]]\n",
    "))"
   ]
  },
  {
   "cell_type": "markdown",
   "metadata": {},
   "source": [
    "### Get the point set from the function above. "
   ]
  },
  {
   "cell_type": "code",
   "execution_count": 13,
   "metadata": {},
   "outputs": [],
   "source": [
    "point_set = measured_points_full()"
   ]
  },
  {
   "cell_type": "markdown",
   "metadata": {},
   "source": [
    "## Now, let us calculate the transformation as we described in our notes"
   ]
  },
  {
   "cell_type": "code",
   "execution_count": 23,
   "metadata": {},
   "outputs": [],
   "source": [
    "def Kabsch(P=None, Q=None, augment_Q=True, center=True):\n",
    "    '''P and Q must be nX3. This rotation is accurate.\n",
    "     Rotates points in P optimally to measured reference points in Q\n",
    "\n",
    "     Params\n",
    "     ======\n",
    "     Q: Points to be rotated into\n",
    "     augment_Q: Whether Q was recorded without the zero/home points embedded between successive readings\n",
    "\n",
    "     '''\n",
    "    if not isinstance(P, np.ndarray) or not isinstance(Q, np.ndarray):\n",
    "        P, Q = prepro()\n",
    "\n",
    "    # calculate the centroids\n",
    "    if center:\n",
    "        'This only for computed old points'\n",
    "        q0 = np.mean(Q, 1)\n",
    "        p0 = np.mean(P, 1)\n",
    "\n",
    "        Q_ctr = Q - np.expand_dims(q0, 1)\n",
    "        P_ctr = P - np.expand_dims(p0, 1)\n",
    "    else:\n",
    "        Q_ctr, P_ctr = Q, P\n",
    "\n",
    "    # add the zero points to preconputed control points\n",
    "    if augment_Q:\n",
    "        'This only for computed old points'\n",
    "        Q_aug = np.array(([[0,0,0]]))\n",
    "        for i in range(Q_ctr.shape[0]-1):\n",
    "                Q_aug = np.append(Q_aug, np.expand_dims(Q_ctr[i+1], 0),0)\n",
    "                Q_aug=  np.append(Q_aug, np.expand_dims(Q_ctr[0], 0),0)\n",
    "        Q_ctr = Q_aug[1:]\n",
    "\n",
    "\n",
    "    Hmat = P_ctr.T@Q_ctr\n",
    "    U, S, V = LA.svd(Hmat)\n",
    "    d = np.sign(np.linalg.det(V@U.T))\n",
    "    M = np.eye(3); M[-1][-1] =d\n",
    "    opt_rot = V@M@U.T\n",
    "    opt_trans = Q_ctr.T- opt_rot@P.T\n",
    "\n",
    "    return opt_rot, np.mean(opt_trans, 1)"
   ]
  },
  {
   "cell_type": "markdown",
   "metadata": {},
   "source": [
    "### Test the algorithm \n",
    "\n",
    "Remember that we are rotating the points in `point_set` into `model_points`. So we would go ahead and \n",
    "call the Kabsch function above as follows:"
   ]
  },
  {
   "cell_type": "code",
   "execution_count": 24,
   "metadata": {},
   "outputs": [],
   "source": [
    "Rot, Trans = Kabsch(model_points, point_set, augment_Q=False, center=False)"
   ]
  },
  {
   "cell_type": "code",
   "execution_count": 25,
   "metadata": {},
   "outputs": [
    {
     "name": "stdout",
     "output_type": "stream",
     "text": [
      "[[1. 0. 0.]\n",
      " [0. 1. 0.]\n",
      " [0. 0. 1.]]\n"
     ]
    }
   ],
   "source": [
    "print(Rot)"
   ]
  },
  {
   "cell_type": "code",
   "execution_count": 26,
   "metadata": {},
   "outputs": [
    {
     "name": "stdout",
     "output_type": "stream",
     "text": [
      "[1775.85125374 -842.66314863 -284.40256961]\n"
     ]
    }
   ],
   "source": [
    "print(Trans)"
   ]
  },
  {
   "cell_type": "code",
   "execution_count": null,
   "metadata": {},
   "outputs": [],
   "source": []
  }
 ],
 "metadata": {
  "kernelspec": {
   "display_name": "Python 3",
   "language": "python",
   "name": "python3"
  },
  "language_info": {
   "codemirror_mode": {
    "name": "ipython",
    "version": 3
   },
   "file_extension": ".py",
   "mimetype": "text/x-python",
   "name": "python",
   "nbconvert_exporter": "python",
   "pygments_lexer": "ipython3",
   "version": "3.5.4"
  }
 },
 "nbformat": 4,
 "nbformat_minor": 2
}
