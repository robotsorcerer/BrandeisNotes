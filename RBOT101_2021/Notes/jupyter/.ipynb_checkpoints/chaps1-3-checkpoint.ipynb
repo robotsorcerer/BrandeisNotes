{
 "cells": [
  {
   "cell_type": "markdown",
   "id": "4a621804-b71f-4278-a776-9c2d25abb06f",
   "metadata": {},
   "source": [
    "<a href=\"https://colab.research.google.com/github/BenGravell/rbot101/blob/main/probability_theory/notebooks/distributions.ipynb\" target=\"_parent\"><img src=\"https://colab.research.google.com/assets/colab-badge.svg\" alt=\"Open In Colab\"/></a>"
   ]
  },
  {
   "cell_type": "markdown",
   "id": "884871a8-5e74-4430-86b3-5a96ee18731a",
   "metadata": {
    "tags": []
   },
   "source": [
    "## Homework solutions\n",
    "### [Quiz I](#Quiz-I)\n",
    "### [Homework I](#Homework-I)\n",
    "### [Homework II](#Homework-II)\n",
    "### [Homework III](#Homework-III)"
   ]
  },
  {
   "cell_type": "markdown",
   "id": "f6af6ac1-8f6a-4e7b-aec7-b4fbe4547ba8",
   "metadata": {},
   "source": [
    "# Quiz I"
   ]
  },
  {
   "cell_type": "markdown",
   "id": "0f799ba4-94f4-485b-af7c-0bd4541370f5",
   "metadata": {},
   "source": [
    "Suppose that $f^{\\prime\\prime}(c) = 0$, what are the sufficient conditions that $c$ must furnish to be a relative minimum? \n",
    "\n",
    "**Answer**: If $f^{\\prime\\prime}(c) = 0$, we must consider higher order terms in the expansion of equation (2.1.1). For example, we may expand up to third term and  if $f^{\\prime\\prime\\prime}(c) \\neq 0$. Its sign tells us about the behavior of the optimal point then. If the derivative is $>0$, then $f(x)$ must have a relative maximum at $c$. If however, this higher-order derivative is $< 0$ $f(x)$ must have a relative minimum at $c$. \n",
    "\n",
    "Specific to this question, $f^n(c) < 0$, where $n$ is the order of the derivative."
   ]
  },
  {
   "cell_type": "markdown",
   "id": "29eb4295-ec0e-4376-8b0d-d04c330b9c9d",
   "metadata": {},
   "source": [
    "# Homework I"
   ]
  },
  {
   "cell_type": "markdown",
   "id": "c2b995ff-b195-400f-9060-2f4736fa8cf1",
   "metadata": {},
   "source": [
    "Prove that we have the _commutativity_, $\\boldsymbol{x}+\\boldsymbol{y} = \\boldsymbol{y} + \\boldsymbol{x}$, and the associativity $\\boldsymbol{x} + \\left(\\boldsymbol{y}+\\boldsymbol{z}\\right) = \\left(\\boldsymbol{x} + \\boldsymbol{y}\\right)+\\boldsymbol{z}$\n",
    "\n",
    "**Solution**: \n",
    "\n",
    "Going by 3.1.3, \n",
    "\\begin{align}\n",
    "\\boldsymbol{x} + \\boldsymbol{y} = \\begin{bmatrix}\n",
    "\tx_1 + y_1 \\\\ x_2+y_2 \\\\ \\vdots \\\\ x_N + y_N,\n",
    "\t\\end{bmatrix}\n",
    "    \\label{eq:com1}\n",
    "    \\end{align}\n",
    "    \n",
    "It follows that, \n",
    "\n",
    "\\begin{align}\n",
    "\\boldsymbol{y} + \\boldsymbol{x} = \\begin{bmatrix}\n",
    "\ty_1 + x_1 \\\\ y_2+x_2 \\\\ \\vdots \\\\ y_N + x_N,\n",
    "\t\\end{bmatrix} =  \\begin{bmatrix}\n",
    "\tx_1 + y_1 \\\\ x_2+y_2 \\\\ \\vdots \\\\ x_N + y_N,\n",
    "\t\\end{bmatrix}\n",
    "    \\label{eq:com2}\n",
    "    \\end{align}\n",
    "    \n",
    "We see that  $\\boldsymbol{x}+\\boldsymbol{y} = \\boldsymbol{y} + \\boldsymbol{x}$, thus the addition of two vectors commute.\n",
    "\n",
    "Associative proof follows the same logic as above. If you have problems showing that, please reach out to me."
   ]
  },
  {
   "cell_type": "markdown",
   "id": "fb07c213-9db9-42b4-9bc6-061c4a137899",
   "metadata": {},
   "source": [
    "# Homework II"
   ]
  },
  {
   "cell_type": "markdown",
   "id": "bbe0031d-8559-4dcc-980f-1fcc7e0eafd7",
   "metadata": {},
   "source": [
    "Prove that we have the _commutativity_, $\\boldsymbol{x}-\\boldsymbol{y} = \\boldsymbol{y} - \\boldsymbol{x}$, and the associativity $\\boldsymbol{x} - \\left(\\boldsymbol{y}-\\boldsymbol{z}\\right) = \\left(\\boldsymbol{x} - \\boldsymbol{y}\\right)-\\boldsymbol{z}$\n",
    "\n",
    "**Solution**: \n",
    "\n",
    "Again, we can extend (3.1.3) to subtraction as follows, \n",
    "\\begin{align}\n",
    "\\boldsymbol{x} - \\boldsymbol{y} = \\begin{bmatrix}\n",
    "\tx_1 - y_1 \\\\ x_2-y_2 \\\\ \\vdots \\\\ x_N - y_N,\n",
    "\t\\end{bmatrix}\n",
    "    \\label{eq:com3}\n",
    "    \\end{align}\n",
    "    \n",
    "It follows that, \n",
    "\n",
    "\\begin{align}\n",
    "\\boldsymbol{y} - \\boldsymbol{x} = \\begin{bmatrix}\n",
    "\ty_1 - x_1 \\\\ y_2-x_2 \\\\ \\vdots \\\\ y_N - x_N,\n",
    "\t\\end{bmatrix} =  \\begin{bmatrix}\n",
    "\tx_1 - y_1 \\\\ x_2-y_2 \\\\ \\vdots \\\\ x_N - y_N,\n",
    "\t\\end{bmatrix}\n",
    "    \\label{eq:com4}\n",
    "    \\end{align}\n",
    "    \n",
    "We see that  $\\boldsymbol{x}-\\boldsymbol{y} = \\boldsymbol{y} - \\boldsymbol{x}$, thus the addition of two vectors commute.\n",
    "\n",
    "Associative proof follows the same logic as above. If you have problems showing that, please reach out to me."
   ]
  },
  {
   "cell_type": "markdown",
   "id": "6610c33e-08cc-4292-bc5f-0a92497d5c16",
   "metadata": {},
   "source": [
    "# Homework III"
   ]
  },
  {
   "cell_type": "markdown",
   "id": "6e1a40e4-e2b7-4848-8fbe-5679b770a8cd",
   "metadata": {},
   "source": [
    "Prove that $\\langle a\\boldsymbol{x}+b \\boldsymbol{y}, a\\boldsymbol{x}+b \\boldsymbol{y} \\rangle = a^2 \\langle \\boldsymbol{x}, \\boldsymbol{x} \\rangle + 2 ab \\langle \\boldsymbol{x}, \\boldsymbol{y} \\rangle  + b^2 \\langle \\boldsymbol{y}, \\boldsymbol{y} \\rangle $ is a non-negative quadratic form in the scalar variables $a$ and $b$ if $\\boldsymbol{x}$ and $\\boldsymbol{y}$ are real.\n",
    "\n",
    "**Solution**: \n",
    "\n",
    "We know from (3.1.6)[a-c] that \n",
    "\n",
    "\n",
    "\\begin{align}\n",
    "    \\langle \\boldsymbol{x}, \\boldsymbol{y} \\rangle &= \t\\langle \\boldsymbol{y}, \\boldsymbol{x} \\rangle \\\\\n",
    "    \\langle \\boldsymbol{x} + \\boldsymbol{y},  \\boldsymbol{u} + \\boldsymbol{v}\\rangle &= \\langle \\boldsymbol{x}, \\boldsymbol{u} \\rangle  + \\langle \\boldsymbol{x}, \\boldsymbol{v} \\rangle + \\langle \\boldsymbol{y}, \\boldsymbol{u} \\rangle + \\langle \\boldsymbol{y}, \\boldsymbol{v} \\rangle \\\\\n",
    "    \\langle c_1 \\boldsymbol{x}, \\boldsymbol{y} \\rangle &= c_1 \\langle \\boldsymbol{x}, \\boldsymbol{y} \\rangle\n",
    "\\end{align}\n",
    "\n",
    "\n",
    "Therefore, it follows from (3.1.6b) that \n",
    "\n",
    "\\begin{align}\n",
    "    \\langle a\\boldsymbol{x}+b \\boldsymbol{y}, a\\boldsymbol{x}+b \\boldsymbol{y} \\rangle = \\langle a\\boldsymbol{x}, a\\boldsymbol{x} \\rangle + \\langle a\\boldsymbol{x}, b\\boldsymbol{y} \\rangle + \\langle b\\boldsymbol{y}, a\\boldsymbol{x} \\rangle + \\langle b\\boldsymbol{y}, b\\boldsymbol{y} \\rangle\n",
    "\\end{align}\n",
    "\n",
    "Furthermore, from (3.1.6c), we can further expand the above as\n",
    "\n",
    "\\begin{align}\n",
    "    \\langle a\\boldsymbol{x}+b \\boldsymbol{y}, a\\boldsymbol{x}+b \\boldsymbol{y} \\rangle &= a\\langle \\boldsymbol{x}, a\\boldsymbol{x} \\rangle + a \\langle \\boldsymbol{x}, b\\boldsymbol{y} \\rangle + b \\langle \\boldsymbol{y}, a\\boldsymbol{x} \\rangle + b \\langle \\boldsymbol{y}, b\\boldsymbol{y} \\rangle \\\\\n",
    "    %\n",
    "    &= a\\langle a\\boldsymbol{x}, \\boldsymbol{x} \\rangle + a \\langle  b\\boldsymbol{y}, \\boldsymbol{x} \\rangle + b \\langle a\\boldsymbol{x}, \\boldsymbol{y} \\rangle + b \\langle b\\boldsymbol{y}, \\boldsymbol{y} \\rangle\n",
    "\\end{align}\n",
    "\n",
    "where the last line follows from the commutativity property in (3.1.6a), so that we can write (following the logic in (3.1.6c)):\n",
    "\n",
    "\\begin{align}\n",
    "    \\langle a\\boldsymbol{x}+b \\boldsymbol{y}, a\\boldsymbol{x}+b \\boldsymbol{y} \\rangle &= a^2\\langle \\boldsymbol{x}, \\boldsymbol{x} \\rangle + \\underbrace{ab \\langle  \\boldsymbol{y}, \\boldsymbol{x} \\rangle}_{\\equiv ab \\langle  \\boldsymbol{x}, \\boldsymbol{y} \\rangle} + \\underbrace{ba \\langle \\boldsymbol{x}, \\boldsymbol{y} \\rangle}_{\\equiv ab \\langle \\boldsymbol{x}, \\boldsymbol{y} \\rangle} + b^2 \\langle \\boldsymbol{y}, \\boldsymbol{y} \\rangle \\\\\n",
    "    &= a^2\\langle \\boldsymbol{x}, \\boldsymbol{x} \\rangle +  ab \\langle  \\boldsymbol{x}, \\boldsymbol{y} \\rangle + ab \\langle \\boldsymbol{x}, \\boldsymbol{y} \\rangle + b^2 \\langle \\boldsymbol{y}, \\boldsymbol{y} \\rangle \\\\\n",
    "    %\n",
    "    &= a^2\\langle \\boldsymbol{x}, \\boldsymbol{x} \\rangle +  2ab \\langle \\boldsymbol{x}, \\boldsymbol{y} \\rangle + b^2 \\langle \\boldsymbol{y}, \\boldsymbol{y} \\rangle\n",
    "\\end{align}\n",
    "\n",
    "Since $a$ and $b$ are scalar variables, and $\\boldsymbol{x}$ and $\\boldsymbol{y}$ are real, it follows that \n",
    "\n",
    "$a^2\\langle \\boldsymbol{x}, \\boldsymbol{x} \\rangle \\ge 0 \\quad \\forall a \\, \\in \\, \\mathbb{R}$, \n",
    "\n",
    "$ b^2 \\langle \\boldsymbol{y}, \\boldsymbol{y} \\rangle \\ge 0 \\quad \\forall b \\, \\in \\, \\mathbb{R}$, and \n",
    "\n",
    "$2ab \\langle \\boldsymbol{x}, \\boldsymbol{y} \\rangle  \\ge 0 \\quad \\forall (a,b) \\, \\in \\, \\mathbb{R}$\n",
    "\n",
    "where $\\mathbb{R}$ denotes the [real line](https://en.wikipedia.org/wiki/Real_line).\n"
   ]
  },
  {
   "cell_type": "markdown",
   "id": "5d7f82fb-4469-4e68-bc46-e822f840bd9d",
   "metadata": {},
   "source": [
    "# Homework IV\n",
    "\n",
    "Hence, show that for real-valued vectors $\\boldsymbol{x}$ and $\\boldsymbol{y}$, that the Cauchy-Schwarz Inequality $\\langle \\boldsymbol{x}, \\boldsymbol{y} \\rangle^2 \\le  \\langle \\boldsymbol{x}, \\boldsymbol{x} \\rangle \\langle \\boldsymbol{y}, \\boldsymbol{y} \\rangle$ holds.\n",
    "\n",
    "**Solution** There are many ways to prove this. I will give you one solution but if you are interested in other ways to prove this, please have a go at this [document](https://rgmia.org/papers/v12e/Cauchy-Schwarzinequality.pdf).\n",
    "\n",
    "Expanding the left-hand-side of the above equation, we have\n",
    "\n",
    "$\\langle \\boldsymbol{x}, \\boldsymbol{y} \\rangle^2 = \\langle \\boldsymbol{x}, \\boldsymbol{y} \\rangle \\cdot \\langle \\boldsymbol{x}, \\boldsymbol{y} \\rangle$\n",
    "\n",
    "Suppose, we have $\\boldsymbol{x} = \\left[ x_1, x_2, \\cdots, x_n \\right]^T$ and $\\boldsymbol{y} = \\left[ y_1, y_2, \\cdots, y_n \\right]^T$, then we must have\n",
    "\n",
    "$$\\langle \\boldsymbol{x}, \\boldsymbol{y} \\rangle^2  = \\left(\\sum_{i=1}^n x_i y_i \\right)^2$$\n",
    "\n",
    "Similarly, expanding the right-hand-side of the inequality, we have $$\\langle \\boldsymbol{x}, \\boldsymbol{x} \\rangle \\langle \\boldsymbol{y}, \\boldsymbol{y} \\rangle = \\sum_{i=1}^n x_i^2 \\cdot \\sum_{i=1}^n y_i^2 $$ \n",
    "\n",
    "Subtracting, the problem translates to \n",
    "\n",
    "or \n",
    "\n",
    "\\begin{align}\n",
    "\\langle \\boldsymbol{x}, \\boldsymbol{y} \\rangle^2 - \\langle \\boldsymbol{x}, \\boldsymbol{x} \\rangle \\langle \\boldsymbol{y}, \\boldsymbol{y} \\rangle \\triangleq \\left(\\sum_{i=1}^n x_i y_i \\right)^2  - \\sum_{i=1}^n x_i^2 \\cdot \\sum_{i=1}^n y_i^2 \n",
    "\\end{align}\n",
    "\n",
    "Seeing $x$ and $y$ are real, the first term has to be nonpositive i.e. $\\left(\\sum_{i=1}^n x_i y_i \\right)^2  \\le 0$ as well as the second term i.e. $\\sum_{i=1}^n x_i^2 \\cdot \\sum_{i=1}^n y_i^2  \\le 0$. Therefore, it follows that \n",
    "\n",
    "\\begin{align}\n",
    "\\left(\\sum_{i=1}^n x_i y_i \\right)^2  - \\sum_{i=1}^n x_i^2 \\cdot \\sum_{i=1}^n y_i^2  \\le 0\n",
    "\\end{align}\n",
    "\n",
    "or \n",
    "\n",
    "\\begin{align}\n",
    "\\left(\\sum_{i=1}^n x_i y_i \\right)^2  \\le \\sum_{i=1}^n x_i^2 \\cdot \\sum_{i=1}^n y_i^2  \n",
    "\\end{align}\n",
    "\n",
    "\n",
    "Hence, $\\langle \\boldsymbol{x}, \\boldsymbol{y} \\rangle^2 \\le  \\langle \\boldsymbol{x}, \\boldsymbol{x} \\rangle \\langle \\boldsymbol{y}, \\boldsymbol{y} \\rangle$ holds"
   ]
  },
  {
   "cell_type": "markdown",
   "id": "ba74a19b-0c06-4b29-a69d-5ef2ec6af363",
   "metadata": {},
   "source": [
    "# Homework V"
   ]
  },
  {
   "cell_type": "markdown",
   "id": "5b2eb191-a6a6-4e51-9c30-6b3f13ba201d",
   "metadata": {},
   "source": [
    "Show that the _triangle inequality_\n",
    "\\begin{align}\n",
    "    \\langle \\boldsymbol{x}+ \\boldsymbol{y}, \\boldsymbol{x}+ \\boldsymbol{y} \\rangle^{\\frac{1}{2}} \\le \\langle \\boldsymbol{x}, \\boldsymbol{x} \\rangle^{\\frac{1}{2}}  + \\langle  \\boldsymbol{y},  \\boldsymbol{y} \\rangle^{\\frac{1}{2}} \n",
    "\\end{align}\n",
    "holds for any two real-valued variables.\n",
    "    \n",
    "**Solution:** The proof here is trivial. Simply replace $\\boldsymbol{x}$ with a complex varible $\\boldsymbol{x} = x_{r} + i x_{g}$ and follow the logic above, where the subscripts $r$ and $y$ respectively denote the real and imaginary parts. \n",
    "\n",
    "The complex conjugate of $\\boldsymbol{x}$ is defined as $\\boldsymbol{\\bar{x}} = x_{r} - i x_{g}$\n",
    "<!-- \n",
    "By this logic, we find that \n",
    "\n",
    "\\begin{align}\n",
    "    \\langle \\boldsymbol{x}+ \\boldsymbol{y}, \\boldsymbol{x}+ \\boldsymbol{y} \\rangle^{\\frac{1}{2}} &= \\langle x_{r} + i x_{g} + y_{r} + i y_{g} , x_{r} + i x_{g} + y_{r} + i y_{g}  \\rangle^{\\frac{1}{2}} \\\\\n",
    "    &= \\langle (x_{r} +  y_{r}) + i \\left(x_{g} + y_{g}\\right), (x_{r} + y_{r}) + i \\left(x_{g} + y_{g}  \\right) \\rangle^{\\frac{1}{2}} \\\\\n",
    "    %\n",
    "    &= \\sqrt{\\langle (x_{r} +  y_{r}), (x_{r} + y_{r}) \\rangle \n",
    "    +  \\langle (x_{r} +  y_{r}), i (x_{g} + y_{g})\\rangle \n",
    "    + \\langle i \\left(x_{g} + y_{g}\\right), (x_{r} + y_{r})\\rangle     +  \\langle i (x_{g} + y_{g}), i (x_{g} + y_{g}) \\rangle} \\\\\n",
    "    %\n",
    "    &= \\sqrt{\\langle x_{r} +  y_{r} \\rangle^2 \n",
    "    +  \\langle (x_{r} +  y_{r}), i (x_{g} + y_{g})\\rangle \n",
    "    + \\langle i \\left(x_{g} + y_{g}\\right), (x_{r} + y_{r})\\rangle     +  \\langle i (x_{g} + y_{g}) \\rangle^2} \\\\\n",
    "     %\n",
    "    &= \\sqrt{\\langle x_{r} +  y_{r}, x_{r} +  y_{r}  \\rangle \n",
    "    +  2 \\langle (x_{r} +  y_{r}), i (x_{g} + y_{g})\\rangle \n",
    "     -  \\langle  (x_{g} + y_{g}), (x_{g} + y_{g}) \\rangle} \\\\\n",
    "\\end{align}\n",
    "\n",
    "Going by the results of homework III, we find that the first term in the square root isis  -->"
   ]
  },
  {
   "cell_type": "markdown",
   "id": "d8e950f0-61ad-44b6-88a7-ae358e06b28a",
   "metadata": {},
   "source": [
    "<!-- $$\\langle x_{r} +  y_{r}, x_{r} +  y_{r}  \\rangle = \\langle x_r, x_r \\rangle + 2 \\langle x_r, y_r \\rangle + \\langle y_r, y_r \\rangle$$, \n",
    "\n",
    "the middle term is $$2 \\langle x_{r} +  y_{r}, i x_{g} + iy_{g}\\rangle = 2 \\left( i\\langle x_r, x_g \\rangle + i \\langle x_r, y_g \\rangle + i \\langle y_{r}, x_g \\rangle + i\\langle y_{r}, y_g \\rangle \n",
    "\\right)$$\n",
    "\n",
    "$$= 2 i \\left( \\langle x_r, x_g \\rangle +  \\langle x_r, y_g \\rangle + \\langle y_{r}, x_g \\rangle + \\langle y_{r}, y_g \\rangle \\right) $$\n",
    "\n",
    "Similarly, the last term is \n",
    "\n",
    "$$\\langle x_{g} +  y_{g}, x_{g} +  y_{g}  \\rangle = \\langle x_g, x_g \\rangle + 2 \\langle x_g, y_g \\rangle + \\langle y_g, y_g \\rangle$$ -->"
   ]
  },
  {
   "cell_type": "code",
   "execution_count": null,
   "id": "278617a3-66d8-4efe-b53b-6981f9453f64",
   "metadata": {},
   "outputs": [],
   "source": []
  }
 ],
 "metadata": {
  "kernelspec": {
   "display_name": "Python 3",
   "language": "python",
   "name": "python3"
  },
  "language_info": {
   "codemirror_mode": {
    "name": "ipython",
    "version": 3
   },
   "file_extension": ".py",
   "mimetype": "text/x-python",
   "name": "python",
   "nbconvert_exporter": "python",
   "pygments_lexer": "ipython3",
   "version": "3.7.10"
  }
 },
 "nbformat": 4,
 "nbformat_minor": 5
}
