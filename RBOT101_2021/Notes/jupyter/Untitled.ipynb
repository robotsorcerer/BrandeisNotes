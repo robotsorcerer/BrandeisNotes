{
 "cells": [
  {
   "cell_type": "markdown",
   "id": "5815f43d-8cc3-4263-8365-eebac0343289",
   "metadata": {},
   "source": [
    "## Hypersonic Aircraft Model simulation\n",
    "\n",
    "  Brandeis Introduction to Robotics Course\n",
    "  \n",
    "  Lekan Molu: July 6, 2021"
   ]
  },
  {
   "cell_type": "code",
   "execution_count": 2,
   "id": "13d466e1-11a8-4287-a780-073fc69cb3f5",
   "metadata": {},
   "outputs": [],
   "source": [
    "import control as ct\n",
    "import numpy as np\n",
    "import control.optimal as opt\n",
    "import matplotlib.pyplot as plt"
   ]
  },
  {
   "cell_type": "code",
   "execution_count": null,
   "id": "02519f67-fe8c-462c-b0f2-ac35d5efa398",
   "metadata": {},
   "outputs": [],
   "source": [
    "# Source: https://arc.aiaa.org/doi/pdfplus/10.2514/2.4580?casa_token=es7MKh3DrHoAAAAA%3ADoflQuaXuyFyCnboBzXfaN_CrJx4ow0VCF4w7RcBdz4WOPn7IXUT3YiroytZCMrUHb1uiHBPfMUk&\n",
    "m = 9375; \n",
    "rho = 0.0023769 # air density slug/ft3\n",
    "\n",
    "A = [[ \n",
    "\n",
    "]]"
   ]
  }
 ],
 "metadata": {
  "kernelspec": {
   "display_name": "Python 3 (ipykernel)",
   "language": "python",
   "name": "python3"
  },
  "language_info": {
   "codemirror_mode": {
    "name": "ipython",
    "version": 3
   },
   "file_extension": ".py",
   "mimetype": "text/x-python",
   "name": "python",
   "nbconvert_exporter": "python",
   "pygments_lexer": "ipython3",
   "version": "3.7.10"
  }
 },
 "nbformat": 4,
 "nbformat_minor": 5
}
