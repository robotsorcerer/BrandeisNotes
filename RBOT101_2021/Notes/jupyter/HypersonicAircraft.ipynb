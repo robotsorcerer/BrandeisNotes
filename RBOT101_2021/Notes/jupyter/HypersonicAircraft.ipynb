{
 "cells": [
  {
   "cell_type": "markdown",
   "id": "5815f43d-8cc3-4263-8365-eebac0343289",
   "metadata": {},
   "source": [
    "## Hypersonic Aircraft Model simulation\n",
    "\n",
    "  Introduction to Robotics Course RBOT 101\n",
    "  \n",
    "  Brandeis Fall 2021/1 \n",
    "  \n",
    "  Author: Lekan Molu\n",
    "  \n",
    "  Date:   July 6, 2021"
   ]
  },
  {
   "cell_type": "code",
   "execution_count": 2,
   "id": "13d466e1-11a8-4287-a780-073fc69cb3f5",
   "metadata": {},
   "outputs": [],
   "source": [
    "import control as ct\n",
    "import numpy as np\n",
    "import control.optimal as opt\n",
    "import matplotlib.pyplot as plt"
   ]
  },
  {
   "cell_type": "code",
   "execution_count": 7,
   "id": "88ca57b3-14ea-4675-b0ab-ec750886be38",
   "metadata": {},
   "outputs": [],
   "source": [
    "## Define system constants\n",
    "# Source: https://arc.aiaa.org/doi/pdfplus/10.2514/2.4580?casa_token=es7MKh3DrHoAAAAA%3ADoflQuaXuyFyCnboBzXfaN_CrJx4ow0VCF4w7RcBdz4WOPn7IXUT3YiroytZCMrUHb1uiHBPfMUk&\n",
    "m = 9375; \n",
    "S = 3603 #ft^3, ref area\n",
    "rho = 0.0023769 # air density slug/ft3\n",
    "CT = 0.0105 # thrust coefficient, approx of eq 18 in Stengel's paper\n",
    "CL = 0.493 # lift coefficient eq A8 approximated\n",
    "CD = 0.0082# drag coefficient\n",
    "mu = 1.39*10**6 # graviatational constant, ft^3/s^2\n",
    "I_yy = 7*10**6 # inertia momenta, slug-ft^2\n",
    "V = 15060 # ft/sec\n",
    "h = 110000 # ft\n",
    "R_E = 20903500 # radius of the earth in ft\n",
    "T = 4.6853*10**4 #lbf\n",
    "cbar = 80 # ref length, ft\n",
    "M = 15 # Mach number\n",
    "alpha = 0.0315 # rad\n",
    "alpha_0 = 0.0315 # trim value, rad\n",
    "r = h + R_E # radial distance from the center of the earth"
   ]
  },
  {
   "cell_type": "code",
   "execution_count": 14,
   "id": "02519f67-fe8c-462c-b0f2-ac35d5efa398",
   "metadata": {},
   "outputs": [],
   "source": [
    "gamma = np.pi/4 # guess 45 degree is the flight path angle\n",
    "\n",
    "A = [[ (1/m) * rho * S * (CT * np.cos(alpha) - CD) * V, -(mu/r**2) *np.cos(gamma), 0, (-1/2*m) * rho * S * CT * np.sin(alpha) * V**2, 0],\n",
    "     [(1/2*m) * rho * S * CL - mu/(r**2 * V**2) + (1/r)*np.cos(gamma), -(V/r)*np.sin(gamma), 0, (1/2*m) *rho * S* CD *np.cos(alpha) * V**2, 0],\n",
    "     [np.sin(gamma), V*np.cos(gamma), 0, 0, 0],\n",
    "     [(-1/2*m) * rho * S * CL - (1/r)*np.cos(gamma) - mu/(r**2 * V**2), (V/r)*np.sin(gamma), 0,  (-1/2*m) * rho * S * CD * np.cos(alpha), 1],\n",
    "     [0, 0, 0, 0,0]]\n",
    "\n",
    "B = [[ 0, -1/m, 0], \n",
    "     [1/(m*V), 0, np.sin(alpha)/(m*V)],\n",
    "     [0, 0, 0],\n",
    "     [0, 0, 0],\n",
    "     [0, 0, 0]]\n",
    "\n",
    "# For the simulation we need the full state output\n",
    "sys = ct.ss2io(ct.ss(A, B, np.eye(5), 0,True)) # continuous time dynamics\n"
   ]
  },
  {
   "cell_type": "code",
   "execution_count": 15,
   "id": "0094019f-0fa3-43c0-a405-63993fa77bb5",
   "metadata": {},
   "outputs": [
    {
     "data": {
      "text/latex": [
       "\\[\n",
       "\\left(\n",
       "\\begin{array}{rllrllrllrllrll|rllrllrll}\n",
       "0.&\\hspace{-1em}0316&\\hspace{-1em}\\phantom{\\cdot}&-2.&\\hspace{-1em}23&\\hspace{-1em}\\cdot10^{-9}&0\\phantom{.}&\\hspace{-1em}&\\hspace{-1em}\\phantom{\\cdot}&-3.&\\hspace{-1em}01&\\hspace{-1em}\\cdot10^{9}&0\\phantom{.}&\\hspace{-1em}&\\hspace{-1em}\\phantom{\\cdot}&0\\phantom{.}&\\hspace{-1em}&\\hspace{-1em}\\phantom{\\cdot}&-0.&\\hspace{-1em}000107&\\hspace{-1em}\\phantom{\\cdot}&0\\phantom{.}&\\hspace{-1em}&\\hspace{-1em}\\phantom{\\cdot}\\\\\n",
       "1.&\\hspace{-1em}98&\\hspace{-1em}\\cdot10^{4}&-0.&\\hspace{-1em}000507&\\hspace{-1em}\\phantom{\\cdot}&0\\phantom{.}&\\hspace{-1em}&\\hspace{-1em}\\phantom{\\cdot}&7.&\\hspace{-1em}46&\\hspace{-1em}\\cdot10^{10}&0\\phantom{.}&\\hspace{-1em}&\\hspace{-1em}\\phantom{\\cdot}&7.&\\hspace{-1em}08&\\hspace{-1em}\\cdot10^{-9}&0\\phantom{.}&\\hspace{-1em}&\\hspace{-1em}\\phantom{\\cdot}&2.&\\hspace{-1em}23&\\hspace{-1em}\\cdot10^{-10}\\\\\n",
       "0.&\\hspace{-1em}707&\\hspace{-1em}\\phantom{\\cdot}&1.&\\hspace{-1em}06&\\hspace{-1em}\\cdot10^{4}&0\\phantom{.}&\\hspace{-1em}&\\hspace{-1em}\\phantom{\\cdot}&0\\phantom{.}&\\hspace{-1em}&\\hspace{-1em}\\phantom{\\cdot}&0\\phantom{.}&\\hspace{-1em}&\\hspace{-1em}\\phantom{\\cdot}&0\\phantom{.}&\\hspace{-1em}&\\hspace{-1em}\\phantom{\\cdot}&0\\phantom{.}&\\hspace{-1em}&\\hspace{-1em}\\phantom{\\cdot}&0\\phantom{.}&\\hspace{-1em}&\\hspace{-1em}\\phantom{\\cdot}\\\\\n",
       "-1.&\\hspace{-1em}98&\\hspace{-1em}\\cdot10^{4}&0.&\\hspace{-1em}000507&\\hspace{-1em}\\phantom{\\cdot}&0\\phantom{.}&\\hspace{-1em}&\\hspace{-1em}\\phantom{\\cdot}&-329\\phantom{.}&\\hspace{-1em}&\\hspace{-1em}\\phantom{\\cdot}&1\\phantom{.}&\\hspace{-1em}&\\hspace{-1em}\\phantom{\\cdot}&0\\phantom{.}&\\hspace{-1em}&\\hspace{-1em}\\phantom{\\cdot}&0\\phantom{.}&\\hspace{-1em}&\\hspace{-1em}\\phantom{\\cdot}&0\\phantom{.}&\\hspace{-1em}&\\hspace{-1em}\\phantom{\\cdot}\\\\\n",
       "0\\phantom{.}&\\hspace{-1em}&\\hspace{-1em}\\phantom{\\cdot}&0\\phantom{.}&\\hspace{-1em}&\\hspace{-1em}\\phantom{\\cdot}&0\\phantom{.}&\\hspace{-1em}&\\hspace{-1em}\\phantom{\\cdot}&0\\phantom{.}&\\hspace{-1em}&\\hspace{-1em}\\phantom{\\cdot}&0\\phantom{.}&\\hspace{-1em}&\\hspace{-1em}\\phantom{\\cdot}&0\\phantom{.}&\\hspace{-1em}&\\hspace{-1em}\\phantom{\\cdot}&0\\phantom{.}&\\hspace{-1em}&\\hspace{-1em}\\phantom{\\cdot}&0\\phantom{.}&\\hspace{-1em}&\\hspace{-1em}\\phantom{\\cdot}\\\\\n",
       "\\hline\n",
       "1\\phantom{.}&\\hspace{-1em}&\\hspace{-1em}\\phantom{\\cdot}&0\\phantom{.}&\\hspace{-1em}&\\hspace{-1em}\\phantom{\\cdot}&0\\phantom{.}&\\hspace{-1em}&\\hspace{-1em}\\phantom{\\cdot}&0\\phantom{.}&\\hspace{-1em}&\\hspace{-1em}\\phantom{\\cdot}&0\\phantom{.}&\\hspace{-1em}&\\hspace{-1em}\\phantom{\\cdot}&0\\phantom{.}&\\hspace{-1em}&\\hspace{-1em}\\phantom{\\cdot}&0\\phantom{.}&\\hspace{-1em}&\\hspace{-1em}\\phantom{\\cdot}&0\\phantom{.}&\\hspace{-1em}&\\hspace{-1em}\\phantom{\\cdot}\\\\\n",
       "0\\phantom{.}&\\hspace{-1em}&\\hspace{-1em}\\phantom{\\cdot}&1\\phantom{.}&\\hspace{-1em}&\\hspace{-1em}\\phantom{\\cdot}&0\\phantom{.}&\\hspace{-1em}&\\hspace{-1em}\\phantom{\\cdot}&0\\phantom{.}&\\hspace{-1em}&\\hspace{-1em}\\phantom{\\cdot}&0\\phantom{.}&\\hspace{-1em}&\\hspace{-1em}\\phantom{\\cdot}&0\\phantom{.}&\\hspace{-1em}&\\hspace{-1em}\\phantom{\\cdot}&0\\phantom{.}&\\hspace{-1em}&\\hspace{-1em}\\phantom{\\cdot}&0\\phantom{.}&\\hspace{-1em}&\\hspace{-1em}\\phantom{\\cdot}\\\\\n",
       "0\\phantom{.}&\\hspace{-1em}&\\hspace{-1em}\\phantom{\\cdot}&0\\phantom{.}&\\hspace{-1em}&\\hspace{-1em}\\phantom{\\cdot}&1\\phantom{.}&\\hspace{-1em}&\\hspace{-1em}\\phantom{\\cdot}&0\\phantom{.}&\\hspace{-1em}&\\hspace{-1em}\\phantom{\\cdot}&0\\phantom{.}&\\hspace{-1em}&\\hspace{-1em}\\phantom{\\cdot}&0\\phantom{.}&\\hspace{-1em}&\\hspace{-1em}\\phantom{\\cdot}&0\\phantom{.}&\\hspace{-1em}&\\hspace{-1em}\\phantom{\\cdot}&0\\phantom{.}&\\hspace{-1em}&\\hspace{-1em}\\phantom{\\cdot}\\\\\n",
       "0\\phantom{.}&\\hspace{-1em}&\\hspace{-1em}\\phantom{\\cdot}&0\\phantom{.}&\\hspace{-1em}&\\hspace{-1em}\\phantom{\\cdot}&0\\phantom{.}&\\hspace{-1em}&\\hspace{-1em}\\phantom{\\cdot}&1\\phantom{.}&\\hspace{-1em}&\\hspace{-1em}\\phantom{\\cdot}&0\\phantom{.}&\\hspace{-1em}&\\hspace{-1em}\\phantom{\\cdot}&0\\phantom{.}&\\hspace{-1em}&\\hspace{-1em}\\phantom{\\cdot}&0\\phantom{.}&\\hspace{-1em}&\\hspace{-1em}\\phantom{\\cdot}&0\\phantom{.}&\\hspace{-1em}&\\hspace{-1em}\\phantom{\\cdot}\\\\\n",
       "0\\phantom{.}&\\hspace{-1em}&\\hspace{-1em}\\phantom{\\cdot}&0\\phantom{.}&\\hspace{-1em}&\\hspace{-1em}\\phantom{\\cdot}&0\\phantom{.}&\\hspace{-1em}&\\hspace{-1em}\\phantom{\\cdot}&0\\phantom{.}&\\hspace{-1em}&\\hspace{-1em}\\phantom{\\cdot}&1\\phantom{.}&\\hspace{-1em}&\\hspace{-1em}\\phantom{\\cdot}&0\\phantom{.}&\\hspace{-1em}&\\hspace{-1em}\\phantom{\\cdot}&0\\phantom{.}&\\hspace{-1em}&\\hspace{-1em}\\phantom{\\cdot}&0\\phantom{.}&\\hspace{-1em}&\\hspace{-1em}\\phantom{\\cdot}\\\\\n",
       "\\end{array}\\right)\n",
       "\\]"
      ],
      "text/plain": [
       "sys[0]"
      ]
     },
     "execution_count": 15,
     "metadata": {},
     "output_type": "execute_result"
    }
   ],
   "source": [
    "sys"
   ]
  },
  {
   "cell_type": "code",
   "execution_count": 30,
   "id": "f993c326-6f59-4d2d-b67e-ff84efe91c75",
   "metadata": {},
   "outputs": [],
   "source": [
    "# simulate with nominal controls \n",
    "t = np.arange(0, 50, 1)\n",
    "L = np.expand_dims(np.sin(2*np.pi*t), 1)\n",
    "D = np.expand_dims(np.cos(2*np.pi*t), 1)\n",
    "T = 2*L -D"
   ]
  },
  {
   "cell_type": "code",
   "execution_count": 32,
   "id": "6b57d912-e719-41d6-8cf7-7ce9970a9831",
   "metadata": {},
   "outputs": [
    {
     "data": {
      "text/plain": [
       "((5, 3), (50, 3))"
      ]
     },
     "execution_count": 32,
     "metadata": {},
     "output_type": "execute_result"
    }
   ],
   "source": [
    "ubar = np.concatenate((L, D, T), 1)\n",
    "np.array(B).shape, ubar.shape"
   ]
  },
  {
   "cell_type": "code",
   "execution_count": null,
   "id": "156e8f90-1716-46e1-ae07-8548ac275ce6",
   "metadata": {},
   "outputs": [],
   "source": [
    "xdot = A@xbar + B@Ubar"
   ]
  }
 ],
 "metadata": {
  "kernelspec": {
   "display_name": "Python 3",
   "language": "python",
   "name": "python3"
  },
  "language_info": {
   "codemirror_mode": {
    "name": "ipython",
    "version": 3
   },
   "file_extension": ".py",
   "mimetype": "text/x-python",
   "name": "python",
   "nbconvert_exporter": "python",
   "pygments_lexer": "ipython3",
   "version": "3.7.10"
  }
 },
 "nbformat": 4,
 "nbformat_minor": 5
}
