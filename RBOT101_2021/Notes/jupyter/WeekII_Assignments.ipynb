{
 "cells": [
  {
   "cell_type": "markdown",
   "id": "6e084888-2fb5-4aea-aee5-d254f52488ff",
   "metadata": {},
   "source": [
    "### Week II Assignment Solutions\n",
    "\n",
    "•\tHomework 7, 8, 9, 10, 11, 12, 13"
   ]
  },
  {
   "cell_type": "markdown",
   "id": "aaa7cbff-57fe-4d8a-abf7-2f8b12c37144",
   "metadata": {},
   "source": [
    "%%javascript MathJax.Hub.Config({ TeX: { equationNumbers: { autoNumber: \"AMS\" } } });\n",
    "\n",
    "### Homework 7\n",
    "\n",
    "Show that $\\boldsymbol{x}^i$ are mutually orthogonal and normalized i.e. orthonormal for the following $N$-dimensional Euclidean basis coordinate vectors\n",
    "\t\\begin{align}\n",
    "\t\t\\boldsymbol{x}^1 = \\begin{bmatrix}\n",
    "\t\t1 \\\\ 0 \\\\ \\vdots \\\\ 0\n",
    "\t\t\\end{bmatrix}\n",
    "\t\t%\n",
    "\t\t\\qquad\n",
    "\t\t%\n",
    "\t\t\\boldsymbol{x}^2 = \\begin{bmatrix}\n",
    "\t\t0 \\\\ 1 \\\\ \\vdots \\\\ 0\n",
    "\t\t\\end{bmatrix}\n",
    "\t\t%\n",
    "\t\t\\qquad\n",
    "\t\t%\n",
    "\t\t\\boldsymbol{x}^N = \\begin{bmatrix}\n",
    "\t\t0 \\\\ 0 \\\\ \\vdots \\\\ 1\n",
    "\t\t\\end{bmatrix}\n",
    "        \\label{eq:hw7}\n",
    "\t\\end{align}\n",
    "\n",
    "To prove orthogonality, we must have\n",
    "\n",
    "\\begin{align}\n",
    "    \\langle \\boldsymbol{x}^i, \\boldsymbol{x}^j \\rangle = 0, \\quad \\forall i \\neq j\n",
    "\\end{align}\n",
    "\n",
    "according to (3.1.7)\n",
    "\n",
    "Inspecting the above, we see that \n",
    "\n",
    "\\begin{align}\n",
    "    \\langle \\boldsymbol{x}^1, \\boldsymbol{x}^2 \\rangle = 0, \\quad \\langle \\boldsymbol{x}^2, \\boldsymbol{x}^3 \\rangle = 0, \\quad \\langle \\boldsymbol{x}^1, \\boldsymbol{x}^3 \\rangle = 0\n",
    "\\end{align}\n",
    "\n",
    "Hence, the vectors $\\boldsymbol{x}^i$ are mutually orthonormal."
   ]
  },
  {
   "cell_type": "markdown",
   "id": "990b1ca8-edef-4623-b90d-71ce928fa38f",
   "metadata": {},
   "source": [
    "### Homework 8\n",
    "\n",
    "Consider the identity matrix $I$, so defined\n",
    "\\begin{align}\n",
    "    I = \\begin{bmatrix}\n",
    "    1 & 0 & \\ldots & 0 \\\\\n",
    "    0 & 1 & \\ldots & 0 \\\\\n",
    "    \\vdots & \\vdots & \\ddots & \\vdots \\\\\n",
    "    0 & 0 & \\ldots & 1 \\\\\n",
    "    \\end{bmatrix}\n",
    "\\end{align}\n",
    "i.e. $I = (\\delta_{ij})$, where $\\delta_{ij}$ is the Kronecker delta symbol, defined as\n",
    "\\begin{align}\n",
    "    \\delta_{ij} = \\begin{cases}\n",
    "    0, \\qquad \\text{if  } i \\neq j \\\\\n",
    "    1, \\qquad \\text{if  }  i=j\n",
    "    \\end{cases}\n",
    "\\end{align}\n",
    "Show that \n",
    "\\begin{align}\n",
    "    \\delta_{ij} = \\sum_{k=1}^{N} \\delta_{ik} \\delta_{kj}\n",
    "\\end{align}\n",
    "\n",
    "Set $\\delta_{ik}$ as elements of an $M\\times N$ matrix, $I_1$ and Set $\\delta_{kj}$ as elements of an $N\\times M$ matrix, $I_2$, it follows that \n",
    "\n",
    "\n",
    "We have\n",
    "\n",
    "\\begin{align}\n",
    "    \\Delta_{\\boldsymbol{i}k} &= \\begin{bmatrix}\n",
    "                    \\Delta_{\\boldsymbol{i}1} & \\Delta_{\\boldsymbol{i}2} & \\cdots & \\Delta_{\\boldsymbol{i},\\,N-1} & \\Delta_{\\boldsymbol{i}N} \n",
    "                \\end{bmatrix}\\, \\quad i = 1, \\cdots, M\n",
    "\\end{align}\n",
    "\n",
    "where, for example\n",
    "\n",
    "$\\Delta_{11} = \\begin{bmatrix} \\delta_{11} \\\\ \\delta_{21} \\\\ \\vdots \\\\ \\delta_{M1} \\end{bmatrix}, \\Delta_{21} = \\begin{bmatrix} \\delta_{21} \\\\ \\delta_{22} \\\\ \\vdots \\\\ \\delta_{M2} \\end{bmatrix}$ e.t.c\n",
    "and \n",
    "\n",
    "\\begin{align}\n",
    "    \\Delta_{k\\boldsymbol{j}} &= \\begin{bmatrix}\n",
    "                    \\Delta_{1\\boldsymbol{j}} & \\Delta_{2\\boldsymbol{j}} & \\cdots & \\Delta_{2\\boldsymbol{j}} & \\Delta_{N\\boldsymbol{j}} \n",
    "                \\end{bmatrix}^T\\, \\quad \\forall j=1, \\cdots, M\n",
    "\\end{align}\n",
    "\n",
    "\n",
    "where, for example, \n",
    "\n",
    "\\begin{align}\n",
    "    \\Delta_{11} &= \\begin{bmatrix}\n",
    "                    \\delta_{11} & \\delta_{12} & \\cdots & \\delta_{1,\\,M-1} & \\delta_{1M} \n",
    "                \\end{bmatrix}, \\quad \\Delta_{21} &= \\begin{bmatrix}\n",
    "                    \\delta_{21} & \\delta_{22} & \\cdots & \\delta_{2,\\,M-1} & \\delta_{2M} \n",
    "                \\end{bmatrix} e.t.c\n",
    "\\end{align} \n",
    "\n",
    "so that \n",
    "\n",
    "\\begin{align}\n",
    "    \\Delta_{ik}\\Delta_{kj}  &= \\begin{bmatrix}\n",
    "                    \\delta_{11} & \\delta_{12} & \\cdots & \\delta_{1,\\,N-1} & \\delta_{1N} \\\\                    \n",
    "                    \\delta_{21} & \\delta_{22} & \\cdots & \\delta_{2,\\,N-1} & \\delta_{2N}  \\\\\n",
    "                    \\vdots & \\vdots & \\ddots & \\vdots & \\vdots \\\\                  \n",
    "                    \\delta_{M1} & \\delta_{M2} & \\cdots & \\delta_{M,\\,N-1} & \\delta_{MN}  \\\\\n",
    "                \\end{bmatrix}\n",
    "                \\begin{bmatrix}\n",
    "                    \\delta_{11} & \\delta_{12} & \\cdots & \\delta_{1,\\,M-1} & \\delta_{1M} \\\\                    \n",
    "                    \\delta_{21} & \\delta_{22} & \\cdots & \\delta_{2,\\,M-1} & \\delta_{2M}  \\\\\n",
    "                    \\vdots & \\vdots & \\ddots & \\vdots & \\vdots \\\\                  \n",
    "                    \\delta_{N1} & \\delta_{N2} & \\cdots & \\delta_{N,\\,M-1} & \\delta_{NM}  \\\\\n",
    "                \\end{bmatrix} \n",
    "\\end{align}\n",
    "\n",
    "whereupon, we infer that \n",
    "\n",
    "\\begin{align}\n",
    "    \\delta_{ii} = \\sum_{i=1}^{N} \\delta_{ii}^2 = M \n",
    "\\end{align}\n",
    "\n",
    "and \n",
    "\n",
    "\\begin{align}\n",
    "    \\delta_{ij} = \\sum_{k=1}^{N} \\delta_{ik} \\delta_{kj} \\quad \\text{ for } i \\neq j.\n",
    "\\end{align}\n",
    "\n",
    "Hence, we write in general that \n",
    "\n",
    "\\begin{align}\n",
    "    \\delta_{ij} = \\sum_{k=1}^{N} \\delta_{ik} \\delta_{kj} \\quad for k = 1, \\cdots, N\n",
    "\\end{align}"
   ]
  },
  {
   "cell_type": "markdown",
   "id": "6f3fd077-3c7c-46f8-a1c0-0d92f83cbbec",
   "metadata": {},
   "source": [
    "### Homework 9\n",
    "\n",
    "Show that \n",
    "\n",
    "\\begin{align}\n",
    "    \\langle A \\boldsymbol{x}, A \\boldsymbol{x} \\rangle = \\sum_{i=1}^{N} \\left(\\sum_{j=1}^{N} a_{ij}x_j\\right)^2\n",
    "\\end{align}\n",
    "\n",
    "Proof:\n",
    "\n",
    "\n",
    "\\begin{align}\n",
    "    \\langle A \\boldsymbol{x}, A \\boldsymbol{x} \\rangle &=  \\sum_{i=1}^{N} \\left( a_{ij}x_j\\right) \\sum_{j=1}^{N} \\left( a_{ji}x_i\\right)  \\\\\n",
    "    &= \\sum_{i=1}^{N} \\left( \\sum_{j=1}^{N} a_{ij}x_j  \\cdot x_i^T a_{ji}^T\\right) \\\\\n",
    "    &= \\sum_{i=1}^{N} \\left( \\sum_{j=1}^{N} a_{ij}x_j  \\cdot a_{ij}x_j\\right) \\\\\n",
    "    &= \\sum_{i=1}^{N} \\left( \\sum_{j=1}^{N} a_{ij}x_j \\right)^2 \\\\\n",
    "\\end{align}"
   ]
  },
  {
   "cell_type": "markdown",
   "id": "8db214ca-11e8-41a7-b83d-bc21f286ae1a",
   "metadata": {},
   "source": [
    "### Homework 10\n",
    "\n",
    "Show that \n",
    "\n",
    "\\begin{align}\n",
    "    f(\\theta_1) f(\\theta_2) = f(\\theta_2) f(\\theta_1) = f(\\theta_1 + \\theta_2)\n",
    "\\end{align}\n",
    "\n",
    "where \n",
    "\\begin{align}\n",
    "    f(\\theta) = \\begin{bmatrix}\n",
    "    \\cos \\theta & -\\sin \\theta \\\\\n",
    "    \\sin  \\theta & \\cos \\theta\n",
    "    \\end{bmatrix}\n",
    "\\end{align}"
   ]
  },
  {
   "cell_type": "markdown",
   "id": "f4215650-efff-446c-b469-1486e8579255",
   "metadata": {},
   "source": [
    "### Solution\n",
    "\n",
    "\\begin{align}\n",
    "    f(\\theta_1) = \\begin{bmatrix}\n",
    "    \\cos \\theta_1 & -\\sin \\theta_1 \\\\\n",
    "    \\sin  \\theta_1 & \\cos \\theta_1\n",
    "    \\end{bmatrix}\n",
    "\\end{align}\n",
    "\n",
    "and \n",
    "\n",
    "\\begin{align}\n",
    "    f(\\theta_2) = \\begin{bmatrix}\n",
    "    \\cos \\theta_2 & -\\sin \\theta_2 \\\\\n",
    "    \\sin  \\theta_2 & \\cos \\theta_2\n",
    "    \\end{bmatrix}\n",
    "\\end{align}\n",
    "\n",
    "We have, \n",
    "\n",
    "\\begin{align}\n",
    "    f(\\theta_1) f(\\theta_2) &= \\begin{bmatrix}\n",
    "    \\cos \\theta_1 & -\\sin \\theta_1 \\\\\n",
    "    \\sin  \\theta_1 & \\cos \\theta_1\n",
    "    \\end{bmatrix}\\begin{bmatrix}\n",
    "    \\cos \\theta_2 & -\\sin \\theta_2 \\\\\n",
    "    \\sin  \\theta_2 & \\cos \\theta_2\n",
    "    \\end{bmatrix} \\\\\n",
    "    &= \\begin{bmatrix}\n",
    "    \\cos \\theta_1 \\cos \\theta_2 - \\sin \\theta_1  \\sin \\theta_2 & -cos(\\theta_1)sin(\\theta_2) - cos(\\theta_2)sin(\\theta_1) \\\\\n",
    "    cos(\\theta_1)sin(\\theta_2) + cos(\\theta_2)sin(\\theta_1) & cos(\\theta_1)cos(\\theta_2) - sin(\\theta_1)sin(\\theta_2)\n",
    "    \\end{bmatrix}\n",
    "\\end{align}\n",
    "\n",
    "Similarly, \n",
    "\n",
    "\\begin{align}\n",
    "    f(\\theta_2) f(\\theta_1) &=\\begin{bmatrix}\n",
    "    \\cos \\theta_2 & -\\sin \\theta_2 \\\\\n",
    "    \\sin  \\theta_2 & \\cos \\theta_2\n",
    "    \\end{bmatrix}  \\, \\begin{bmatrix}\n",
    "    \\cos \\theta_1 & -\\sin \\theta_1 \\\\\n",
    "    \\sin  \\theta_1 & \\cos \\theta_1\n",
    "    \\end{bmatrix} \\\\\n",
    "     &= \\begin{bmatrix}\n",
    "    \\cos \\theta_1 \\cos \\theta_2 - \\sin \\theta_1  \\sin \\theta_2 & -cos(\\theta_1)sin(\\theta_2) - cos(\\theta_2)sin(\\theta_1) \\\\\n",
    "    cos(\\theta_1)sin(\\theta_2) + cos(\\theta_2)sin(\\theta_1) & cos(\\theta_1)cos(\\theta_2) - sin(\\theta_1)sin(\\theta_2)\n",
    "    \\end{bmatrix},\n",
    "\\end{align}\n",
    "\n",
    "And we have \n",
    "\n",
    "\\begin{align}\n",
    "    f(\\theta_1 + \\theta_2) &=\\begin{bmatrix}\n",
    "    \\cos (\\theta_1 + \\theta_2) & -\\sin (\\theta_1 + \\theta_2) \\\\\n",
    "    \\sin  (\\theta_1 + \\theta_2) & \\cos (\\theta_1 + \\theta_2)\n",
    "    \\end{bmatrix}\n",
    "\\end{align}\n",
    "\n",
    "Since by Trigonometric Identities, we have:\n",
    "\n",
    "\\begin{align}\n",
    "    \\sin(\\theta_1 \\pm \\theta_2) &= \\sin \\theta_1 \\cos \\theta_2 \\pm \\cos \\theta_1 \\sin \\theta_2 \\text{ and } \\\\\n",
    "    \\cos(\\theta_1 \\pm \\theta_2) &= \\cos \\theta_1 \\cos \\theta_2 \\mp \\sin \\theta_1 \\sin \\theta_2,\n",
    "\\end{align}\n",
    "\n",
    "it follows that \n",
    "\n",
    "\\begin{align}\n",
    "    f(\\theta_1 + \\theta_2) &=\\begin{bmatrix}\n",
    "    \\cos \\theta_1 \\cos \\theta_2 - \\sin \\theta_1 \\sin \\theta_2 & -\\sin \\theta_1 \\cos \\theta_2 - \\cos \\theta_1 \\sin \\theta_2 \\\\\n",
    "   \\sin \\theta_1 \\cos \\theta_2 + \\cos \\theta_1 \\sin \\theta_2 & \\cos \\theta_1 \\cos \\theta_2 - \\sin \\theta_1 \\sin \\theta_2\n",
    "    \\end{bmatrix}\n",
    "\\end{align}\n",
    "\n",
    "It therefore becomes easy to see that \n",
    "\n",
    "\\begin{align}\n",
    "    f(\\theta_1) = \\begin{bmatrix}\n",
    "    \\cos \\theta_1 & -\\sin \\theta_1 \\\\\n",
    "    \\sin  \\theta_1 & \\cos \\theta_1\n",
    "    \\end{bmatrix}\n",
    "\\end{align}\n",
    "\n",
    "from the respective rhs of the above equations."
   ]
  },
  {
   "cell_type": "markdown",
   "id": "a29ecf8e-b928-4de3-ae40-bb6edd15924e",
   "metadata": {},
   "source": [
    "### Homework 11\n",
    "\n",
    "Let \n",
    "    \\begin{align}\n",
    "        A = \\begin{bmatrix}\n",
    "            a_1 & a_2 \\\\\n",
    "            -a_2 & a_1\n",
    "        \\end{bmatrix} \n",
    "    \\text{ and }\n",
    "    B = \\begin{bmatrix}\n",
    "        b_1 & b_2 \\\\\n",
    "        -b_2 & b_1\n",
    "    \\end{bmatrix},\n",
    "    \\end{align}\n",
    " show that \n",
    "\\begin{align}\n",
    "    \\left(a_1^2 + a_2^2\\right)\\left(b_1^2 + b_2^2\\right) = \\left(a_2 b_1 + a_1 b_2\\right)^2 + \\left(a_1 b_1 - a_2 b_2\\right)^2\n",
    "\\end{align}\n",
    "\n",
    "**Hint:**  $|A B | = |A| |B|$, "
   ]
  },
  {
   "cell_type": "markdown",
   "id": "87e116d4-184c-4b5d-adc9-068e2211b03d",
   "metadata": {},
   "source": [
    "### Solution to HW 11\n",
    "\n",
    " \\begin{align}\n",
    "        AB &= \\begin{bmatrix}\n",
    "            a_1 & a_2 \\\\\n",
    "            -a_2 & a_1\n",
    "        \\end{bmatrix} \n",
    "        \\begin{bmatrix}\n",
    "        b_1 & b_2 \\\\\n",
    "        -b_2 & b_1\n",
    "    \\end{bmatrix} \\\\\n",
    " \\text{ or  } AB   &= \\begin{bmatrix}\n",
    "            a_1 b_1 - a_2 b_2 & a_1 b_2 + a_2 b_1 \\\\\n",
    "               -a_1 b_2 - a_2 b_1 & a_1 b_1 - a_2 b_2\n",
    "        \\end{bmatrix}\n",
    "    \\end{align}\n",
    "    \n",
    "    whereupon,\n",
    "    \n",
    "\\begin{align}\n",
    "    \\|AB\\|   &= \\left(a_1 b_1 - a_2 b_2\\right)^2 + \\left(a_1 b_2 + a_2 b_1 \\right)^2 \\\\\n",
    "             &= a_1^2 \\, b_1^2 + a_1^2 \\, b_2^2 + a_2^2 \\, b_1^2 + a_2^2 \\, b_2^2. \n",
    "\\end{align}\n",
    "\n",
    "We also have \n",
    "\n",
    "\\begin{align}\n",
    "  \\|A\\| &= a_1^2 + a_2^2 \\text {  and  } \\\\\n",
    "  \\|B\\| &= b_1^2 + b_2^2, \n",
    "\\end{align}\n",
    "    \n",
    "    \n",
    "so that \n",
    "\n",
    "\\begin{align}\n",
    "  \\|A\\| \\, \\| B \\| &= \\left( a_1^2 + a_2^2 \\right) \\left( b_1^2 + b_2^2 \\right)\n",
    "\\end{align}\n",
    "\n",
    "Comparing the rhs of $\\|AB\\|$ and $\\|A\\| \\, \\| B \\|$ in the foregoing, we see that \n",
    "\n",
    "\\begin{align}\n",
    "\\|AB\\| &\\equiv a_1^2 \\, b_1^2 + a_1^2 \\, b_2^2 + a_2^2 \\, b_1^2 + a_2^2 \\, b_2^2 \\\\\n",
    "&\\triangleq a_1^2 (b_1^2 + b_2^2) + a_2^2(b_1^2 + b_2^2) \\\\\n",
    "&=  \\left(a_1^2 + a_2^2\\right)\\left(b_1^2 + b_2^2\\right) \\\\\n",
    "&\\equiv \\left(a_2 b_1 + a_1 b_2\\right)^2 + \\left(a_1 b_1 - a_2 b_2\\right)^2 \n",
    "\\end{align}\n"
   ]
  },
  {
   "cell_type": "markdown",
   "id": "bf7c5f2e-b23a-4a19-9028-5633502e095f",
   "metadata": {},
   "source": [
    "### Homework 12\n",
    "\n",
    "Prove that $(A^T)^T = A$\n",
    "\n",
    "This is trivial.\n",
    "\n",
    "\n",
    "Set $A = a_{ij}$. Then $A^T = a_{ij}^T \\equiv a_{ji}$.\n",
    "\n",
    "Now, $(A^T)^T = (a_{ij}^T)^T = a_{ji}^T \\equiv a_{ij}$"
   ]
  },
  {
   "cell_type": "markdown",
   "id": "4027ac70-2d10-4fdd-b818-4a1cfadd73a8",
   "metadata": {},
   "source": [
    "### Homework 13\n",
    "\n",
    "Prove that $\\langle A\\boldsymbol{x}, B\\boldsymbol{y}\\rangle = \\langle \\boldsymbol{x}, A^T B \\boldsymbol{y} \\rangle$\n",
    "\n",
    "This is also trivial. Please follow the steps in equations (3.2.31) through (3.2.34)."
   ]
  },
  {
   "cell_type": "code",
   "execution_count": 3,
   "id": "c75c9db0-6dc7-48c8-8a55-7f75fb1309f5",
   "metadata": {},
   "outputs": [
    {
     "data": {
      "text/plain": [
       "42.857142857142854"
      ]
     },
     "execution_count": 3,
     "metadata": {},
     "output_type": "execute_result"
    }
   ],
   "source": [
    "(30/70)*100"
   ]
  },
  {
   "cell_type": "code",
   "execution_count": 4,
   "id": "5aa421c9-fad4-4503-b135-818e5869f67a",
   "metadata": {},
   "outputs": [
    {
     "data": {
      "text/plain": [
       "68.925"
      ]
     },
     "execution_count": 4,
     "metadata": {},
     "output_type": "execute_result"
    }
   ],
   "source": [
    "(42.85+95)/2"
   ]
  },
  {
   "cell_type": "code",
   "execution_count": 6,
   "id": "4f88ef7e-ad25-4464-b976-fa755aa6813e",
   "metadata": {},
   "outputs": [
    {
     "data": {
      "text/plain": [
       "0.7"
      ]
     },
     "execution_count": 6,
     "metadata": {},
     "output_type": "execute_result"
    }
   ],
   "source": [
    "49/70"
   ]
  },
  {
   "cell_type": "code",
   "execution_count": 7,
   "id": "80dabf2a-b7cc-4950-b803-bd3f54670398",
   "metadata": {},
   "outputs": [
    {
     "data": {
      "text/plain": [
       "74.5"
      ]
     },
     "execution_count": 7,
     "metadata": {},
     "output_type": "execute_result"
    }
   ],
   "source": [
    "(79+70)/2"
   ]
  },
  {
   "cell_type": "code",
   "execution_count": null,
   "id": "1d071cb9-57e7-4d3f-95a3-be557cca4263",
   "metadata": {},
   "outputs": [],
   "source": []
  }
 ],
 "metadata": {
  "kernelspec": {
   "display_name": "Python 3",
   "language": "python",
   "name": "python3"
  },
  "language_info": {
   "codemirror_mode": {
    "name": "ipython",
    "version": 3
   },
   "file_extension": ".py",
   "mimetype": "text/x-python",
   "name": "python",
   "nbconvert_exporter": "python",
   "pygments_lexer": "ipython3",
   "version": "3.7.10"
  }
 },
 "nbformat": 4,
 "nbformat_minor": 5
}
