{
 "cells": [
  {
   "cell_type": "markdown",
   "id": "4a621804-b71f-4278-a776-9c2d25abb06f",
   "metadata": {
    "id": "4a621804-b71f-4278-a776-9c2d25abb06f"
   },
   "source": [
    "<a href=\"https://colab.research.google.com/github/BenGravell/rbot101/blob/main/probability_theory/notebooks/distributions.ipynb\" target=\"_parent\"><img src=\"https://colab.research.google.com/assets/colab-badge.svg\" alt=\"Open In Colab\"/></a>"
   ]
  },
  {
   "cell_type": "markdown",
   "id": "39cef488-9c77-44ff-8fcb-65d5db56d618",
   "metadata": {},
   "source": [
    "+ Download as webpdf:\n",
    "    \n",
    "    + jupyter nbconvert --to webpdf --allow-chromium-download chaps1_3.ipynb                                                       "
   ]
  },
  {
   "cell_type": "markdown",
   "id": "884871a8-5e74-4430-86b3-5a96ee18731a",
   "metadata": {
    "id": "884871a8-5e74-4430-86b3-5a96ee18731a",
    "tags": []
   },
   "source": [
    "## Homework solutions\n",
    "### [Quiz I](#Quiz-I)\n",
    "### [Homework I](#Homework-I)\n",
    "### [Homework II](#Homework-II)\n",
    "### [Homework III](#Homework-III)\n",
    "### [Homework IV](#Homework-IV)\n",
    "### [Homework V](#Homework-V)\n",
    "### [Homework VI](#Homework-VI)\n",
    "\n",
    "### [Office Hours, JUly 30, 2021](#Office-Hours)"
   ]
  },
  {
   "cell_type": "markdown",
   "id": "f6af6ac1-8f6a-4e7b-aec7-b4fbe4547ba8",
   "metadata": {
    "id": "f6af6ac1-8f6a-4e7b-aec7-b4fbe4547ba8"
   },
   "source": [
    "# Quiz I"
   ]
  },
  {
   "cell_type": "markdown",
   "id": "0f799ba4-94f4-485b-af7c-0bd4541370f5",
   "metadata": {
    "id": "0f799ba4-94f4-485b-af7c-0bd4541370f5"
   },
   "source": [
    "Suppose that $f^{\\prime\\prime}(c) = 0$, what are the sufficient conditions that $c$ must furnish to be a relative minimum? \n",
    "\n",
    "**Answer**: If $f^{\\prime\\prime}(c) = 0$, we must consider higher order terms in the expansion of equation (2.1.1). For example, we may expand up to third term and  if $f^{\\prime\\prime\\prime}(c) \\neq 0$, its sign tells us about the behavior of the optimal point then. If the derivative is $>0$, then $f(x)$ must have a relative maximum at $c$. If however, this higher-order derivative is $< 0$ $f(x)$ must have a relative minimum at $c$. \n",
    "\n",
    "Specific to this question, $f^n(c) < 0$, where $n$ is the order of the derivative."
   ]
  },
  {
   "cell_type": "markdown",
   "id": "29eb4295-ec0e-4376-8b0d-d04c330b9c9d",
   "metadata": {
    "id": "29eb4295-ec0e-4376-8b0d-d04c330b9c9d"
   },
   "source": [
    "# Homework I"
   ]
  },
  {
   "cell_type": "markdown",
   "id": "c2b995ff-b195-400f-9060-2f4736fa8cf1",
   "metadata": {
    "id": "c2b995ff-b195-400f-9060-2f4736fa8cf1"
   },
   "source": [
    "%%javascript\n",
    "MathJax.Hub.Config({\n",
    "    TeX: { equationNumbers: { autoNumber: \"AMS\" } }\n",
    "});\n",
    "\n",
    "Prove that we have the _commutativity_, $\\boldsymbol{x}+\\boldsymbol{y} = \\boldsymbol{y} + \\boldsymbol{x}$, and the associativity $\\boldsymbol{x} + \\left(\\boldsymbol{y}+\\boldsymbol{z}\\right) = \\left(\\boldsymbol{x} + \\boldsymbol{y}\\right)+\\boldsymbol{z}$\n",
    "\n",
    "**Solution**: \n",
    "\n",
    "Going by 3.1.3, \n",
    "\\begin{align}\n",
    "\\boldsymbol{x} + \\boldsymbol{y} = \\begin{bmatrix}\n",
    "\tx_1 + y_1 \\\\ x_2+y_2 \\\\ \\vdots \\\\ x_N + y_N,\n",
    "\t\\end{bmatrix}\n",
    "    \\label{eq:com1}\n",
    "    \\end{align}\n",
    "    \n",
    "It follows that, \n",
    "\n",
    "\\begin{align}\n",
    "\\boldsymbol{y} + \\boldsymbol{x} = \\begin{bmatrix}\n",
    "\ty_1 + x_1 \\\\ y_2+x_2 \\\\ \\vdots \\\\ y_N + x_N,\n",
    "\t\\end{bmatrix} =  \\begin{bmatrix}\n",
    "\tx_1 + y_1 \\\\ x_2+y_2 \\\\ \\vdots \\\\ x_N + y_N,\n",
    "\t\\end{bmatrix}\n",
    "    \\label{eq:com2}\n",
    "    \\end{align}\n",
    "    \n",
    "We see that  $\\boldsymbol{x}+\\boldsymbol{y} = \\boldsymbol{y} + \\boldsymbol{x}$, thus the addition of two vectors commute.\n",
    "\n",
    "Associative proof follows the same logic as above. If you have problems showing that, please reach out to me."
   ]
  },
  {
   "cell_type": "markdown",
   "id": "fb07c213-9db9-42b4-9bc6-061c4a137899",
   "metadata": {
    "id": "fb07c213-9db9-42b4-9bc6-061c4a137899"
   },
   "source": [
    "# Homework II"
   ]
  },
  {
   "cell_type": "markdown",
   "id": "bbe0031d-8559-4dcc-980f-1fcc7e0eafd7",
   "metadata": {
    "id": "bbe0031d-8559-4dcc-980f-1fcc7e0eafd7"
   },
   "source": [
    "%%javascript\n",
    "MathJax.Hub.Config({\n",
    "    TeX: { equationNumbers: { autoNumber: \"AMS\" } }\n",
    "});\n",
    "\n",
    "Prove that we have the _commutativity_, $\\boldsymbol{x}-\\boldsymbol{y} = \\boldsymbol{y} - \\boldsymbol{x}$, and the associativity $\\boldsymbol{x} - \\left(\\boldsymbol{y}-\\boldsymbol{z}\\right) = \\left(\\boldsymbol{x} - \\boldsymbol{y}\\right)-\\boldsymbol{z}$\n",
    "\n",
    "**Solution**: \n",
    "\n",
    "Again, we can extend (3.1.3) to subtraction as follows, \n",
    "\\begin{align}\n",
    "\\boldsymbol{x} - \\boldsymbol{y} = \\begin{bmatrix}\n",
    "\tx_1 - y_1 \\\\ x_2-y_2 \\\\ \\vdots \\\\ x_N - y_N,\n",
    "\t\\end{bmatrix}\n",
    "    \\label{eq:com3}\n",
    "    \\end{align}\n",
    "    \n",
    "It follows that, \n",
    "\n",
    "\\begin{align}\n",
    "\\boldsymbol{y} - \\boldsymbol{x} = \\begin{bmatrix}\n",
    "\ty_1 - x_1 \\\\ y_2-x_2 \\\\ \\vdots \\\\ y_N - x_N,\n",
    "\t\\end{bmatrix} =  \\begin{bmatrix}\n",
    "\tx_1 - y_1 \\\\ x_2-y_2 \\\\ \\vdots \\\\ x_N - y_N,\n",
    "\t\\end{bmatrix}\n",
    "    \\label{eq:com4}\n",
    "    \\end{align}\n",
    "    \n",
    "We see that  $\\boldsymbol{x}-\\boldsymbol{y} = \\boldsymbol{y} - \\boldsymbol{x}$, thus the addition of two vectors commute.\n",
    "\n",
    "Associative proof follows the same logic as above. If you have problems showing that, please reach out to me."
   ]
  },
  {
   "cell_type": "markdown",
   "id": "6610c33e-08cc-4292-bc5f-0a92497d5c16",
   "metadata": {
    "id": "6610c33e-08cc-4292-bc5f-0a92497d5c16"
   },
   "source": [
    "# Homework III"
   ]
  },
  {
   "cell_type": "markdown",
   "id": "6e1a40e4-e2b7-4848-8fbe-5679b770a8cd",
   "metadata": {
    "id": "6e1a40e4-e2b7-4848-8fbe-5679b770a8cd"
   },
   "source": [
    "%%javascript\n",
    "MathJax.Hub.Config({\n",
    "    TeX: { equationNumbers: { autoNumber: \"AMS\" } }\n",
    "});\n",
    "\n",
    "Prove that $\\langle a\\boldsymbol{x}+b \\boldsymbol{y}, a\\boldsymbol{x}+b \\boldsymbol{y} \\rangle = a^2 \\langle \\boldsymbol{x}, \\boldsymbol{x} \\rangle + 2 ab \\langle \\boldsymbol{x}, \\boldsymbol{y} \\rangle  + b^2 \\langle \\boldsymbol{y}, \\boldsymbol{y} \\rangle $ is a non-negative quadratic form in the scalar variables $a$ and $b$ if $\\boldsymbol{x}$ and $\\boldsymbol{y}$ are real.\n",
    "\n",
    "**Solution**: \n",
    "\n",
    "We know from (3.1.6)[a-c] that \n",
    "\n",
    "\n",
    "\\begin{align}\n",
    "    \\langle \\boldsymbol{x}, \\boldsymbol{y} \\rangle &= \t\\langle \\boldsymbol{y}, \\boldsymbol{x} \\rangle \\\\\n",
    "    \\langle \\boldsymbol{x} + \\boldsymbol{y},  \\boldsymbol{u} + \\boldsymbol{v}\\rangle &= \\langle \\boldsymbol{x}, \\boldsymbol{u} \\rangle  + \\langle \\boldsymbol{x}, \\boldsymbol{v} \\rangle + \\langle \\boldsymbol{y}, \\boldsymbol{u} \\rangle + \\langle \\boldsymbol{y}, \\boldsymbol{v} \\rangle \\\\\n",
    "    \\langle c_1 \\boldsymbol{x}, \\boldsymbol{y} \\rangle &= c_1 \\langle \\boldsymbol{x}, \\boldsymbol{y} \\rangle\n",
    "\\end{align}\n",
    "\n",
    "\n",
    "Therefore, it follows from (3.1.6b) that \n",
    "\n",
    "\\begin{align}\n",
    "    \\langle a\\boldsymbol{x}+b \\boldsymbol{y}, a\\boldsymbol{x}+b \\boldsymbol{y} \\rangle = \\langle a\\boldsymbol{x}, a\\boldsymbol{x} \\rangle + \\langle a\\boldsymbol{x}, b\\boldsymbol{y} \\rangle + \\langle b\\boldsymbol{y}, a\\boldsymbol{x} \\rangle + \\langle b\\boldsymbol{y}, b\\boldsymbol{y} \\rangle\n",
    "\\end{align}\n",
    "\n",
    "Furthermore, from (3.1.6c), we can further expand the above as\n",
    "\n",
    "\\begin{align}\n",
    "    \\langle a\\boldsymbol{x}+b \\boldsymbol{y}, a\\boldsymbol{x}+b \\boldsymbol{y} \\rangle &= a\\langle \\boldsymbol{x}, a\\boldsymbol{x} \\rangle + a \\langle \\boldsymbol{x}, b\\boldsymbol{y} \\rangle + b \\langle \\boldsymbol{y}, a\\boldsymbol{x} \\rangle + b \\langle \\boldsymbol{y}, b\\boldsymbol{y} \\rangle \\\\\n",
    "    %\n",
    "    &= a\\langle a\\boldsymbol{x}, \\boldsymbol{x} \\rangle + a \\langle  b\\boldsymbol{y}, \\boldsymbol{x} \\rangle + b \\langle a\\boldsymbol{x}, \\boldsymbol{y} \\rangle + b \\langle b\\boldsymbol{y}, \\boldsymbol{y} \\rangle\n",
    "\\end{align}\n",
    "\n",
    "where the last line follows from the commutativity property in (3.1.6a), so that we can write (following the logic in (3.1.6c)):\n",
    "\n",
    "\\begin{align}\n",
    "    \\langle a\\boldsymbol{x}+b \\boldsymbol{y}, a\\boldsymbol{x}+b \\boldsymbol{y} \\rangle &= a^2\\langle \\boldsymbol{x}, \\boldsymbol{x} \\rangle + \\underbrace{ab \\langle  \\boldsymbol{y}, \\boldsymbol{x} \\rangle}_{\\equiv ab \\langle  \\boldsymbol{x}, \\boldsymbol{y} \\rangle} + \\underbrace{ba \\langle \\boldsymbol{x}, \\boldsymbol{y} \\rangle}_{\\equiv ab \\langle \\boldsymbol{x}, \\boldsymbol{y} \\rangle} + b^2 \\langle \\boldsymbol{y}, \\boldsymbol{y} \\rangle \\\\\n",
    "    &= a^2\\langle \\boldsymbol{x}, \\boldsymbol{x} \\rangle +  ab \\langle  \\boldsymbol{x}, \\boldsymbol{y} \\rangle + ab \\langle \\boldsymbol{x}, \\boldsymbol{y} \\rangle + b^2 \\langle \\boldsymbol{y}, \\boldsymbol{y} \\rangle \\\\\n",
    "    %\n",
    "    &= a^2\\langle \\boldsymbol{x}, \\boldsymbol{x} \\rangle +  2ab \\langle \\boldsymbol{x}, \\boldsymbol{y} \\rangle + b^2 \\langle \\boldsymbol{y}, \\boldsymbol{y} \\rangle\n",
    "\\end{align}\n",
    "\n",
    "Since $a$ and $b$ are scalar variables, and $\\boldsymbol{x}$ and $\\boldsymbol{y}$ are real, it follows that \n",
    "\n",
    "$a^2\\langle \\boldsymbol{x}, \\boldsymbol{x} \\rangle \\ge 0 \\quad \\forall a \\, \\in \\, \\mathbb{R}$, \n",
    "\n",
    "$ b^2 \\langle \\boldsymbol{y}, \\boldsymbol{y} \\rangle \\ge 0 \\quad \\forall b \\, \\in \\, \\mathbb{R}$, and \n",
    "\n",
    "$2ab \\langle \\boldsymbol{x}, \\boldsymbol{y} \\rangle  \\ge 0 \\quad \\forall (a,b) \\, \\in \\, \\mathbb{R}$\n",
    "\n",
    "where $\\mathbb{R}$ denotes the [real line](https://en.wikipedia.org/wiki/Real_line).\n"
   ]
  },
  {
   "cell_type": "markdown",
   "id": "5d7f82fb-4469-4e68-bc46-e822f840bd9d",
   "metadata": {
    "id": "5d7f82fb-4469-4e68-bc46-e822f840bd9d"
   },
   "source": [
    "%%javascript\n",
    "MathJax.Hub.Config({\n",
    "    TeX: { equationNumbers: { autoNumber: \"AMS\" } }\n",
    "});\n",
    "\n",
    "# Homework IV\n",
    "\n",
    "Hence, show that for real-valued vectors $\\boldsymbol{x}$ and $\\boldsymbol{y}$, that the Cauchy-Schwarz Inequality $\\langle \\boldsymbol{x}, \\boldsymbol{y} \\rangle^2 \\le  \\langle \\boldsymbol{x}, \\boldsymbol{x} \\rangle \\langle \\boldsymbol{y}, \\boldsymbol{y} \\rangle$ holds.\n",
    "\n",
    "**Solution** There are many ways to prove this. I will give you one solution but if you are interested in other ways to prove this, please have a go at this [document](https://rgmia.org/papers/v12e/Cauchy-Schwarzinequality.pdf).\n",
    "\n",
    "Expanding the left-hand-side of the above equation, we have\n",
    "\n",
    "$\\langle \\boldsymbol{x}, \\boldsymbol{y} \\rangle^2 = \\langle \\boldsymbol{x}, \\boldsymbol{y} \\rangle \\cdot \\langle \\boldsymbol{x}, \\boldsymbol{y} \\rangle$\n",
    "\n",
    "Suppose, we have $\\boldsymbol{x} = \\left[ x_1, x_2, \\cdots, x_n \\right]^T$ and $\\boldsymbol{y} = \\left[ y_1, y_2, \\cdots, y_n \\right]^T$, then we must have\n",
    "\n",
    "$$\\langle \\boldsymbol{x}, \\boldsymbol{y} \\rangle^2  = \\left(\\sum_{i=1}^n x_i y_i \\right)^2$$\n",
    "\n",
    "Similarly, expanding the right-hand-side of the inequality, we have $$\\langle \\boldsymbol{x}, \\boldsymbol{x} \\rangle \\langle \\boldsymbol{y}, \\boldsymbol{y} \\rangle = \\sum_{i=1}^n x_i^2 \\cdot \\sum_{i=1}^n y_i^2 $$ \n",
    "\n",
    "Subtracting, the problem translates to \n",
    "\n",
    "or \n",
    "\n",
    "\\begin{align}\n",
    "\\langle \\boldsymbol{x}, \\boldsymbol{y} \\rangle^2 - \\langle \\boldsymbol{x}, \\boldsymbol{x} \\rangle \\langle \\boldsymbol{y}, \\boldsymbol{y} \\rangle \\triangleq \\left(\\sum_{i=1}^n x_i y_i \\right)^2  - \\sum_{i=1}^n x_i^2 \\cdot \\sum_{i=1}^n y_i^2 \n",
    "\\end{align}\n",
    "\n",
    "Seeing $x$ and $y$ are real, the first term i.e. $\\left(\\sum_{i=1}^n x_i y_i \\right)^2 $ is less than the second term i.e. $\\sum_{i=1}^n x_i^2 \\cdot \\sum_{i=1}^n y_i^2$ so that together, they are nonpositive i.e.,\n",
    "\n",
    "\\begin{align}\n",
    "\\left(\\sum_{i=1}^n x_i y_i \\right)^2  - \\sum_{i=1}^n x_i^2 \\cdot \\sum_{i=1}^n y_i^2  \\le 0\n",
    "\\end{align}\n",
    "\n",
    "\n",
    "This is trivially shown as \n",
    "\n",
    "$(x_1y_1 + x_2y_2+\\cdots+x_ny_n)^2 \\le (x_1^2 +x_2^2+\\cdots+x_n^2)(y_1^2+y_2^2+\\cdots+y_n^2)$.\n",
    "\n",
    "\n",
    "Therefore, we have\n",
    "\n",
    "\\begin{align}\n",
    "\\left(\\sum_{i=1}^n x_i y_i \\right)^2  \\le \\sum_{i=1}^n x_i^2 \\cdot \\sum_{i=1}^n y_i^2  \n",
    "\\end{align}\n",
    "\n",
    "\n",
    "Hence, $\\langle \\boldsymbol{x}, \\boldsymbol{y} \\rangle^2 \\le  \\langle \\boldsymbol{x}, \\boldsymbol{x} \\rangle \\langle \\boldsymbol{y}, \\boldsymbol{y} \\rangle$ holds."
   ]
  },
  {
   "cell_type": "markdown",
   "id": "ba74a19b-0c06-4b29-a69d-5ef2ec6af363",
   "metadata": {
    "id": "ba74a19b-0c06-4b29-a69d-5ef2ec6af363"
   },
   "source": [
    "# Homework V\n",
    "\n",
    "Using the result in Homework IV, show that for complex vectors $x$ and $y$, $|\\langle x, y \\rangle |^2 \\le \\langle x, \\bar{x} \\rangle \\langle y, \\bar{y} \\rangle $"
   ]
  },
  {
   "cell_type": "markdown",
   "id": "cf37d5da-7847-47ad-be7d-2bb79b742f81",
   "metadata": {},
   "source": [
    "%%javascript\n",
    "MathJax.Hub.Config({\n",
    "    TeX: { equationNumbers: { autoNumber: \"AMS\" } }\n",
    "});\n",
    "\n",
    "### Solution V\n",
    "\n",
    "Say $\\bar{x} = a + ib$ and $\\bar{y} = c+id$ where $i$ is the imaginary number $\\sqrt{-1}$. It follows that \n",
    "\n",
    "\\begin{align}\n",
    "    \\langle x, y \\rangle= \\langle a + ib, c+ id \\rangle   \n",
    "    \\label{eq:proof}\n",
    "\\end{align}\n",
    "\n",
    "whose solution can be inferred from homework III as\n",
    "\n",
    "\\begin{align}\n",
    "    \\langle x, y \\rangle= (ac - bd) + i (ad + bc).\n",
    "\\end{align}\n",
    "\n",
    "Therefore,\n",
    "\n",
    "\\begin{align}\n",
    "    |\\langle x, y \\rangle|^2 = (ac - bd)^2 - (ad + bc)^2\n",
    "    \\label{eq:xy}\n",
    "\\end{align}\n",
    "\n",
    "Expanding the right hand side of the required \\eqref{eq:proof} above, we have\n",
    "\n",
    "\\begin{align}\n",
    "    \\langle x, \\bar{x} \\rangle &= \\langle a+ib, a-ib \\rangle \n",
    "                                 \\label{eq:xxbar} \\\\\n",
    "                                 &=  \\langle a, a \\rangle - \\langle a, ib \\rangle\n",
    "                                 + \\langle ib, a \\rangle - \\langle ib, ib \\rangle \\\\\n",
    "                                 &=  |a|^2 - |b|^2;\n",
    "\\end{align}\n",
    "\n",
    "i.e. $ \\langle x, \\bar{x} \\rangle = |a|^2 - |b|^2$.\n",
    "\n",
    "In a similar vein to \\eqref{eq:xxbar}, we can write,\n",
    "\n",
    "\\begin{align}\n",
    "    \\langle y, \\bar{y} \\rangle =  |c|^2 - |d|^2.\n",
    "    \\label{eq:yybar}\n",
    "\\end{align}\n",
    "\n",
    "Putting \\eqref{eq:xy}, \\eqref{eq:xxbar}, and \\eqref{eq:yybar} in the original equation \\eqref{eq:proof}, we find that \n",
    "\n",
    "\\begin{align}\n",
    "   |\\langle x, y \\rangle|^2  &\\triangleq (ac - bd)^2 - (ad + bc)^2 \\\\\n",
    "                              &= \\left[(ac)^2 + (bd)^2 - 2 abcd\\right] - \\left[ (ad)^2 + (bc)^2 + 2(abcd) \\right] \\\\\n",
    "                              &= (ac)^2 + (bd)^2 - 4 abcd - (ad)^2 - (bc)^2.\n",
    "                              \\label{eq:lhs_proof}\n",
    "\\end{align}\n",
    "\n",
    "Now, following \\eqref{eq:xxbar} and \\eqref{eq:yybar}, we find that\n",
    "\n",
    "\\begin{align}\n",
    "    \\langle x, \\bar{x} \\rangle \\langle y, \\bar{y} \\rangle &=  (|a|^2 - |b|^2)(|c|^2 - |d|^2) \\\\\n",
    "                                                          &= |a|^2|c|^2 - |a|^2|d|^2 - |b|^2 |c|^2 + |b|^2 |d|^2 \\\\\n",
    "                                                          &= (ac)^2 +  (bd)^2 +  (ad)^2 + (bc)^2 \n",
    "                               \\label{eq:rhs_proof}\n",
    "\\end{align}\n",
    "\n",
    "Now, comparing \\eqref{eq:lhs_proof} with \\eqref{eq:rhs_proof}, we find that \n",
    "\n",
    "\\begin{align}\n",
    "   |\\langle x, y \\rangle|^2  &= \\left[(ac)^2 + (bd)^2 \\right] - 4 abcd - (ad)^2 - (bc)^2 \\\\\n",
    "                              &= \\left[\\langle x, \\bar{x} \\rangle \\langle y, \\bar{y} \\rangle - (ad)^2 - (bc)^2\\right] - 4 abcd - (ad)^2 - (bc)^2\n",
    "\\end{align}\n",
    "\n",
    "It then becomes clear from above that \n",
    "\n",
    "\\begin{align}\n",
    "    |\\langle x, y \\rangle |^2 \\le \\langle x, \\bar{x} \\rangle \\langle y, \\bar{y} \\rangle \n",
    "\\end{align}\n",
    "\n",
    "holds, provided that $- (ad)^2 - (bc)^2 - 4 abcd - (ad)^2 - (bc)^2 < 0$. Hence, proved."
   ]
  },
  {
   "cell_type": "markdown",
   "id": "9e019ea9-9132-4605-9583-7f92891075eb",
   "metadata": {
    "id": "ba74a19b-0c06-4b29-a69d-5ef2ec6af363"
   },
   "source": [
    "# Homework VI"
   ]
  },
  {
   "cell_type": "markdown",
   "id": "5b2eb191-a6a6-4e51-9c30-6b3f13ba201d",
   "metadata": {
    "id": "5b2eb191-a6a6-4e51-9c30-6b3f13ba201d"
   },
   "source": [
    "Show that the _triangle inequality_\n",
    "\\begin{align}\n",
    "    \\langle \\boldsymbol{x}+ \\boldsymbol{y}, \\boldsymbol{x}+ \\boldsymbol{y} \\rangle^{\\frac{1}{2}} \\le \\langle \\boldsymbol{x}, \\boldsymbol{x} \\rangle^{\\frac{1}{2}}  + \\langle  \\boldsymbol{y},  \\boldsymbol{y} \\rangle^{\\frac{1}{2}} \n",
    "\\end{align}\n",
    "holds for any two real-valued variables.\n",
    "    \n",
    "**Solution:** The proof here is trivial. Simply replace $\\boldsymbol{x}$ with a complex varible $\\boldsymbol{x} = x_{r} + i x_{g}$ and follow the logic above, where the subscripts $r$ and $y$ respectively denote the real and imaginary parts. \n",
    "\n",
    "The complex conjugate of $\\boldsymbol{x}$ is defined as $\\boldsymbol{\\bar{x}} = x_{r} - i x_{g}$\n",
    "<!-- \n",
    "By this logic, we find that \n",
    "\n",
    "\\begin{align}\n",
    "    \\langle \\boldsymbol{x}+ \\boldsymbol{y}, \\boldsymbol{x}+ \\boldsymbol{y} \\rangle^{\\frac{1}{2}} &= \\langle x_{r} + i x_{g} + y_{r} + i y_{g} , x_{r} + i x_{g} + y_{r} + i y_{g}  \\rangle^{\\frac{1}{2}} \\\\\n",
    "    &= \\langle (x_{r} +  y_{r}) + i \\left(x_{g} + y_{g}\\right), (x_{r} + y_{r}) + i \\left(x_{g} + y_{g}  \\right) \\rangle^{\\frac{1}{2}} \\\\\n",
    "    %\n",
    "    &= \\sqrt{\\langle (x_{r} +  y_{r}), (x_{r} + y_{r}) \\rangle \n",
    "    +  \\langle (x_{r} +  y_{r}), i (x_{g} + y_{g})\\rangle \n",
    "    + \\langle i \\left(x_{g} + y_{g}\\right), (x_{r} + y_{r})\\rangle     +  \\langle i (x_{g} + y_{g}), i (x_{g} + y_{g}) \\rangle} \\\\\n",
    "    %\n",
    "    &= \\sqrt{\\langle x_{r} +  y_{r} \\rangle^2 \n",
    "    +  \\langle (x_{r} +  y_{r}), i (x_{g} + y_{g})\\rangle \n",
    "    + \\langle i \\left(x_{g} + y_{g}\\right), (x_{r} + y_{r})\\rangle     +  \\langle i (x_{g} + y_{g}) \\rangle^2} \\\\\n",
    "     %\n",
    "    &= \\sqrt{\\langle x_{r} +  y_{r}, x_{r} +  y_{r}  \\rangle \n",
    "    +  2 \\langle (x_{r} +  y_{r}), i (x_{g} + y_{g})\\rangle \n",
    "     -  \\langle  (x_{g} + y_{g}), (x_{g} + y_{g}) \\rangle} \\\\\n",
    "\\end{align}\n",
    "\n",
    "Going by the results of homework III, we find that the first term in the square root isis  -->"
   ]
  },
  {
   "cell_type": "markdown",
   "id": "d8e950f0-61ad-44b6-88a7-ae358e06b28a",
   "metadata": {
    "id": "d8e950f0-61ad-44b6-88a7-ae358e06b28a"
   },
   "source": [
    "<!-- $$\\langle x_{r} +  y_{r}, x_{r} +  y_{r}  \\rangle = \\langle x_r, x_r \\rangle + 2 \\langle x_r, y_r \\rangle + \\langle y_r, y_r \\rangle$$, \n",
    "\n",
    "the middle term is $$2 \\langle x_{r} +  y_{r}, i x_{g} + iy_{g}\\rangle = 2 \\left( i\\langle x_r, x_g \\rangle + i \\langle x_r, y_g \\rangle + i \\langle y_{r}, x_g \\rangle + i\\langle y_{r}, y_g \\rangle \n",
    "\\right)$$\n",
    "\n",
    "$$= 2 i \\left( \\langle x_r, x_g \\rangle +  \\langle x_r, y_g \\rangle + \\langle y_{r}, x_g \\rangle + \\langle y_{r}, y_g \\rangle \\right) $$\n",
    "\n",
    "Similarly, the last term is \n",
    "\n",
    "$$\\langle x_{g} +  y_{g}, x_{g} +  y_{g}  \\rangle = \\langle x_g, x_g \\rangle + 2 \\langle x_g, y_g \\rangle + \\langle y_g, y_g \\rangle$$ -->"
   ]
  },
  {
   "cell_type": "markdown",
   "id": "O3eNOIJT8a9F",
   "metadata": {
    "id": "O3eNOIJT8a9F"
   },
   "source": [
    "## Office Hours, \n",
    "### July 30, 2021\n",
    "\n",
    "> Indented block\n",
    "\n"
   ]
  },
  {
   "cell_type": "code",
   "execution_count": 19,
   "id": "278617a3-66d8-4efe-b53b-6981f9453f64",
   "metadata": {
    "id": "278617a3-66d8-4efe-b53b-6981f9453f64"
   },
   "outputs": [],
   "source": [
    "import math\n",
    "import numpy as np"
   ]
  },
  {
   "cell_type": "code",
   "execution_count": 20,
   "id": "72a03b87-31de-4c53-a080-0f91f89d6521",
   "metadata": {
    "id": "72a03b87-31de-4c53-a080-0f91f89d6521",
    "outputId": "65ed484e-1fd5-406f-e3d7-f83625f9ba1b"
   },
   "outputs": [
    {
     "data": {
      "text/plain": [
       "3.141592653589793"
      ]
     },
     "execution_count": 20,
     "metadata": {},
     "output_type": "execute_result"
    }
   ],
   "source": [
    "math.pi"
   ]
  },
  {
   "cell_type": "code",
   "execution_count": 21,
   "id": "ff4b74e7-89e7-4155-8365-211aaf6c6869",
   "metadata": {
    "id": "ff4b74e7-89e7-4155-8365-211aaf6c6869",
    "outputId": "71593063-84cc-471c-c308-3ee0ccbee6c8"
   },
   "outputs": [
    {
     "data": {
      "text/plain": [
       "3.141592653589793"
      ]
     },
     "execution_count": 21,
     "metadata": {},
     "output_type": "execute_result"
    }
   ],
   "source": [
    "np.pi"
   ]
  },
  {
   "cell_type": "markdown",
   "id": "b4cba35e-bd03-498a-8551-0b4a9cd2333d",
   "metadata": {
    "id": "b4cba35e-bd03-498a-8551-0b4a9cd2333d"
   },
   "source": [
    "$f(x, y) = x^2 + 2xy + y^2$"
   ]
  },
  {
   "cell_type": "code",
   "execution_count": 22,
   "id": "4a1a5836-5f81-4e01-b37c-9d8652251f56",
   "metadata": {
    "id": "4a1a5836-5f81-4e01-b37c-9d8652251f56"
   },
   "outputs": [],
   "source": [
    "def quadratic(x, y):\n",
    "    return x**2 + 2*x*y + y**2"
   ]
  },
  {
   "cell_type": "code",
   "execution_count": 23,
   "id": "e22f2d22-0e5a-43aa-8c86-2e6a896654b3",
   "metadata": {
    "id": "e22f2d22-0e5a-43aa-8c86-2e6a896654b3",
    "outputId": "2733111d-447b-4653-e3b8-494bc75fcf0d"
   },
   "outputs": [
    {
     "name": "stdout",
     "output_type": "stream",
     "text": [
      "650.25\n"
     ]
    }
   ],
   "source": [
    "x = 25; y = 0.5\n",
    "ans = quadratic(x, y)\n",
    "print(ans)"
   ]
  },
  {
   "cell_type": "markdown",
   "id": "d9d1fd6b-4e1e-460d-b7a9-4e57c9675769",
   "metadata": {
    "id": "d9d1fd6b-4e1e-460d-b7a9-4e57c9675769"
   },
   "source": [
    "### Stationary Point"
   ]
  },
  {
   "cell_type": "code",
   "execution_count": 24,
   "id": "91480c8e-e711-4f03-b592-34009fd3d34e",
   "metadata": {
    "id": "91480c8e-e711-4f03-b592-34009fd3d34e"
   },
   "outputs": [],
   "source": [
    "def derivative(f, x):\n",
    "    return 2*x + 2*y"
   ]
  },
  {
   "cell_type": "code",
   "execution_count": 25,
   "id": "15e98b00-1b65-43a5-b949-047c3dc6d4b3",
   "metadata": {
    "id": "15e98b00-1b65-43a5-b949-047c3dc6d4b3",
    "outputId": "215753b7-c589-422a-8279-dc7517fd7ec4"
   },
   "outputs": [
    {
     "name": "stdout",
     "output_type": "stream",
     "text": [
      "18\n"
     ]
    }
   ],
   "source": [
    "x = 4\n",
    "y = 5\n",
    "\n",
    "f = quadratic(x, y)\n",
    "deri_x = derivative(f, 4)\n",
    "print(deri_x)"
   ]
  },
  {
   "cell_type": "code",
   "execution_count": 26,
   "id": "9c1cc226-0433-4b2c-b32d-1f3342cfc729",
   "metadata": {
    "id": "9c1cc226-0433-4b2c-b32d-1f3342cfc729"
   },
   "outputs": [],
   "source": [
    "def derivative_y(f, y):\n",
    "    return 2*x + 2*y"
   ]
  },
  {
   "cell_type": "markdown",
   "id": "847b110c-43cc-410e-9673-3f1e41aca94a",
   "metadata": {
    "id": "847b110c-43cc-410e-9673-3f1e41aca94a"
   },
   "source": [
    "### Optimal Points\n",
    "\n",
    "+ Relative Maxima: Double Derivative of f with respect to the concerned variable (must be less than 0 i.e. < 0)\n",
    "+ Relative Miniima: Double Derivative of f with respect to the concerned variable + Relative Maxima: Double Derivative of f with respect to the concerned variable (must be less than 0 i.e. > 0)"
   ]
  },
  {
   "cell_type": "markdown",
   "id": "a1cfabcd-bb72-48c9-9817-717cfd3a5126",
   "metadata": {
    "id": "a1cfabcd-bb72-48c9-9817-717cfd3a5126"
   },
   "source": [
    "### Analytic Approach\n",
    "\n",
    "minimize $Q(u, v) = au^2 + 2uv b + c v^2$\n",
    "\n",
    "subject to \n",
    "\n",
    "$u^2 + v^2 = 1$"
   ]
  },
  {
   "cell_type": "markdown",
   "id": "ffc610c2-7d57-4643-9bbf-aa59a87de839",
   "metadata": {
    "id": "ffc610c2-7d57-4643-9bbf-aa59a87de839"
   },
   "source": [
    "minimize $Q(u, v) = au^2 + 2uv b + c v^2$\n",
    "\n",
    "          subject to \n",
    "\n",
    "$u^2 + v^2 - 1 = 0$\n",
    "\n",
    "Introduce the Lagrangian, $\\lambda$, the optimization problem becomes\n",
    "\n",
    "minimize        $au^2 + 2uv b + c v^2 - \\lambda(u^2 + v^2 - 1)$"
   ]
  },
  {
   "cell_type": "markdown",
   "id": "4061a012-64ac-434a-bdda-3160b8616659",
   "metadata": {
    "id": "4061a012-64ac-434a-bdda-3160b8616659"
   },
   "source": [
    " ### Vectors and Matrices\n",
    " \n",
    " \\begin{align}\n",
    " \tQ(x_1, x_2, \\ldots, x_N) = \\sum_{i,j=1}^{N} a_{ij} x_i x_j\n",
    " \\end{align}\n",
    " \n",
    "  \\begin{align}\n",
    " \ty_i = \\sum_{j=1}^{N} a_{ij} x_j \\qquad i=1,2, \\ldots, N\n",
    " \\end{align}\n",
    " "
   ]
  },
  {
   "cell_type": "markdown",
   "id": "905eaf18-fe8f-45ec-b32e-c1bee5001e99",
   "metadata": {
    "id": "905eaf18-fe8f-45ec-b32e-c1bee5001e99"
   },
   "source": [
    "$\\boldsymbol{y} = A \\boldsymbol{x}$"
   ]
  },
  {
   "cell_type": "markdown",
   "id": "b4e9acde-7bf5-475f-9444-3e6963aea1a0",
   "metadata": {
    "id": "b4e9acde-7bf5-475f-9444-3e6963aea1a0"
   },
   "source": [
    "  \\begin{align}\n",
    " \ty_i = \\sum_{j=1}^{N} a_{ij} x_j \\qquad i=1,2, \\ldots, N\n",
    " \\end{align}\n",
    " \n",
    "   \\begin{align}\n",
    " \ty_1 &=  a_{11} x_1 + a_{12} x_2  + a_{13} x_3 +  \\cdots \\\\\n",
    "    y_2 &=  a_{21} x_1 + a_{22} x_2  + a_{23} x_3 +  \\cdots \\\\\n",
    "    y_3 &=  a_{31} x_1 + a_{32} x_2  + a_{33} x_3 +  \\cdots \\\\\n",
    "    \\vdots &= \\ldots \\quad \\ldots  \\quad \\ldots  \\\\    \n",
    "    y_n &=  a_{n1} x_1 + a_{n2} x_2  + a_{n3} x_3 +  \\cdots \\\\\n",
    " \\end{align}"
   ]
  },
  {
   "cell_type": "markdown",
   "id": "c66ef562-2772-4f3f-a1c6-ebedf785c927",
   "metadata": {
    "id": "c66ef562-2772-4f3f-a1c6-ebedf785c927"
   },
   "source": [
    "Can be rewritten as \n",
    "\n",
    "\\begin{align}\n",
    "    \\begin{bmatrix}\n",
    "        y_1 \\\\ y_2 \\\\ y_3 \\\\ \\vdots \\\\ y_n\n",
    "    \\end{bmatrix} = \n",
    "    \\begin{bmatrix}\n",
    "        a_{11} & a_{12} &  a_{13} x_3  &  \\cdots & a_{1n} \\\\ \n",
    "        a_{21} & a_{22} &  a_{23} x_3   &  \\cdots & a_{2n}\\\\\n",
    "        a_{31} & a_{32} &  a_{33} x_3  &  \\cdots & a_{3n}\\\\\n",
    "         \\vdots &  \\ldots & \\ldots  & \\ldots  \\vdots \\\\ \n",
    "         a_{n1} & a_{n2} & a_{n3}  &  \\cdots & a_{nn}\n",
    "    \\end{bmatrix}\n",
    "    \\begin{bmatrix}\n",
    "        x_1 \\\\ x_2 \\\\ x_3 \\\\ \\vdots \\\\ x_n\n",
    "    \\end{bmatrix}\n",
    "\\end{align}"
   ]
  },
  {
   "cell_type": "markdown",
   "id": "0ca613c0-6ce1-444a-90bb-8b61166726f7",
   "metadata": {
    "id": "0ca613c0-6ce1-444a-90bb-8b61166726f7"
   },
   "source": [
    "Which can be easily written as \n",
    "\n",
    "\\begin{align}\n",
    "    \\underbrace{\\begin{bmatrix}\n",
    "        y_1 \\\\ y_2 \\\\ y_3 \\\\ \\vdots \\\\ y_n\n",
    "    \\end{bmatrix}}_{\\boldsymbol{y}} = \n",
    "    \\underbrace{\\begin{bmatrix}\n",
    "        a_{11} & a_{12} &  a_{13} x_3  &  \\cdots & a_{1n} \\\\ \n",
    "        a_{21} & a_{22} &  a_{23} x_3   &  \\cdots & a_{2n}\\\\\n",
    "        a_{31} & a_{32} &  a_{33} x_3  &  \\cdots & a_{3n}\\\\\n",
    "         \\vdots &  \\ldots & \\ldots  & \\ldots  \\vdots \\\\ \n",
    "         a_{n1} & a_{n2} & a_{n3}  &  \\cdots & a_{nn}\n",
    "    \\end{bmatrix}}_{\\boldsymbol{A}}\n",
    "    \\underbrace{\\begin{bmatrix}\n",
    "        x_1 \\\\ x_2 \\\\ x_3 \\\\ \\vdots \\\\ x_n\n",
    "    \\end{bmatrix}}_{\\boldsymbol{x}}\n",
    "\\end{align}\n",
    "\n",
    "or \n",
    "\n",
    "\\begin{align}\n",
    "        \\boldsymbol{y} = A \\boldsymbol{x}\n",
    "\\end{align}"
   ]
  },
  {
   "cell_type": "code",
   "execution_count": 27,
   "id": "20517526-3133-443d-98d5-584dc53230f0",
   "metadata": {
    "id": "20517526-3133-443d-98d5-584dc53230f0",
    "outputId": "313759c1-3980-43a4-be95-cc891a912c60"
   },
   "outputs": [
    {
     "data": {
      "text/plain": [
       "[150, 260, 370, 480, 590]"
      ]
     },
     "execution_count": 27,
     "metadata": {},
     "output_type": "execute_result"
    }
   ],
   "source": [
    "kortnie = [100, 200, 300, 400, 500]\n",
    "ryan = [50, 60, 70, 80, 90]\n",
    "\n",
    "def add(x, y):\n",
    "    assert len(x)==len(y), 'two vectors must have equal dimensions before you can add.'\n",
    "    \n",
    "    z = []\n",
    "    for i in range(len(x)):\n",
    "        z_item = x[i]+y[i]\n",
    "        z.append(z_item)\n",
    "    \n",
    "    return z\n",
    "\n",
    "add(ryan, kortnie)"
   ]
  },
  {
   "cell_type": "code",
   "execution_count": 28,
   "id": "ddbbded1-0219-4655-a533-65cd7393686b",
   "metadata": {
    "id": "ddbbded1-0219-4655-a533-65cd7393686b",
    "outputId": "5a639b38-adb5-452e-a5d7-c071cd6035c7"
   },
   "outputs": [
    {
     "name": "stdout",
     "output_type": "stream",
     "text": [
      "[ 150  260  370 4580  590]\n"
     ]
    }
   ],
   "source": [
    "import numpy as np\n",
    "\n",
    "kortnie = np.array(([100, 200, 300, 4500, 500]))\n",
    "ryan = np.array(([50, 60, 70, 80, 90]))\n",
    "\n",
    "solution = ryan+kortnie\n",
    "\n",
    "print(solution)"
   ]
  },
  {
   "cell_type": "markdown",
   "id": "83718095-9ab6-4167-bc0a-d6572d723698",
   "metadata": {
    "id": "83718095-9ab6-4167-bc0a-d6572d723698"
   },
   "source": [
    "### Homework\n",
    "\n",
    "Carry out an example of (3.1.4) in python and numpy using $c_1 = 0.5$ and $\\boldsymbol{x}$ as ryan/kortnie vector above"
   ]
  },
  {
   "cell_type": "markdown",
   "id": "002311b3-cbe9-4533-b787-9b59cc49b6e1",
   "metadata": {
    "id": "002311b3-cbe9-4533-b787-9b59cc49b6e1"
   },
   "source": [
    "### Inner Products (or Dot Products)"
   ]
  },
  {
   "cell_type": "code",
   "execution_count": 29,
   "id": "341aed83-be5b-4148-bc36-462821161d34",
   "metadata": {
    "id": "341aed83-be5b-4148-bc36-462821161d34",
    "outputId": "b3a48747-9c30-44e7-b7c4-7dddcd838e3f"
   },
   "outputs": [
    {
     "name": "stdout",
     "output_type": "stream",
     "text": [
      "[[-0.33492539]\n",
      " [ 2.01204123]\n",
      " [ 0.59148775]\n",
      " [-0.90754677]]\n",
      "\n",
      "[[0.91826913]\n",
      " [0.09763606]\n",
      " [0.94627913]\n",
      " [0.82928432]]\n"
     ]
    }
   ],
   "source": [
    "x1 = np.random.randn(4, 1)\n",
    "y1 = np.random.randn(4, 1)\n",
    "\n",
    "print(x1)\n",
    "\n",
    "print()\n",
    "\n",
    "print(y1)"
   ]
  },
  {
   "cell_type": "markdown",
   "id": "cef9d2dd-a95d-4ef3-9bb9-02d74456f7c6",
   "metadata": {
    "id": "cef9d2dd-a95d-4ef3-9bb9-02d74456f7c6"
   },
   "source": [
    "### The dot product between x1 and y1"
   ]
  },
  {
   "cell_type": "code",
   "execution_count": 30,
   "id": "cb50ebf9-5a6b-4d16-9801-6f76c2cc5d90",
   "metadata": {
    "id": "cb50ebf9-5a6b-4d16-9801-6f76c2cc5d90",
    "outputId": "c597905e-13a0-4a5b-c03c-867a8e50b974"
   },
   "outputs": [
    {
     "name": "stdout",
     "output_type": "stream",
     "text": [
      "-0.3040056770773464\n"
     ]
    }
   ],
   "source": [
    "# for loop\n",
    "\n",
    "z = 0\n",
    "\n",
    "assert len(x1)==len(y1), 'x1 and x2 must be of the same size'\n",
    "\n",
    "for i in range(len(x1)):\n",
    "    z += (x1[i, 0]*y1[i, 0])\n",
    "print(z)"
   ]
  },
  {
   "cell_type": "code",
   "execution_count": 31,
   "id": "a49541e0-c0cb-419b-b09a-643d534302c1",
   "metadata": {
    "id": "a49541e0-c0cb-419b-b09a-643d534302c1",
    "outputId": "74bfa2cc-b12c-4c4f-def3-b87b7e2c2f5a"
   },
   "outputs": [
    {
     "data": {
      "text/plain": [
       "array([[-0.30400568]])"
      ]
     },
     "execution_count": 31,
     "metadata": {},
     "output_type": "execute_result"
    }
   ],
   "source": [
    "x1.T.dot(y1)"
   ]
  },
  {
   "cell_type": "code",
   "execution_count": null,
   "id": "fcca99ca-0782-4cbf-8195-891a8e100cd7",
   "metadata": {
    "id": "fcca99ca-0782-4cbf-8195-891a8e100cd7"
   },
   "outputs": [],
   "source": []
  },
  {
   "cell_type": "code",
   "execution_count": null,
   "id": "7f98fdac-934a-4bc2-8b22-e165a96bff9d",
   "metadata": {
    "id": "7f98fdac-934a-4bc2-8b22-e165a96bff9d"
   },
   "outputs": [],
   "source": []
  }
 ],
 "metadata": {
  "colab": {
   "collapsed_sections": [],
   "name": "chaps1-3.ipynb",
   "provenance": []
  },
  "kernelspec": {
   "display_name": "Python 3",
   "language": "python",
   "name": "python3"
  },
  "language_info": {
   "codemirror_mode": {
    "name": "ipython",
    "version": 3
   },
   "file_extension": ".py",
   "mimetype": "text/x-python",
   "name": "python",
   "nbconvert_exporter": "python",
   "pygments_lexer": "ipython3",
   "version": "3.7.10"
  }
 },
 "nbformat": 4,
 "nbformat_minor": 5
}
