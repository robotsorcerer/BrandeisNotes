{
 "cells": [
  {
   "cell_type": "markdown",
   "id": "e338fadf-268f-4e16-a98a-9fb363caf5e4",
   "metadata": {},
   "source": [
    "### Homework I Reflections\n",
    "\n",
    "+ After reading through section 1.3 of Spong's book, what is your opinion on the inspiration behind the design of the common kinematic arrangements?\n",
    "\n",
    "+ If you want to pick an item from a factory's conveyor belt, would you rather use a serial manipulator arm or a parallel manipulator? Why?\n",
    "\n",
    "+ What are the advantages of the spherical manipulator when it comes to its kinematic analysis compared to the Cartesian manipulator?\n",
    "\n",
    "+ What applications do you envisage the Seiko RT3300 cylindrical robots could be used for?\n",
    "\n",
    "+ What do you think are the advantages of the kinematic arrangement of the robot of Fig. 2.9? Can you reiterate its use cases?"
   ]
  },
  {
   "cell_type": "markdown",
   "id": "8afae056-0c4a-42fd-8948-114d7717fef5",
   "metadata": {},
   "source": [
    "## Homework I Reflections. Instructor Answers"
   ]
  },
  {
   "cell_type": "markdown",
   "id": "0f42beea-45b1-4f35-9a01-266be70f170b",
   "metadata": {},
   "source": [
    "### What is your opinion on the inspiration behind the design of the common kinematic arrangements?\n",
    "\n",
    "Most serial robot mechanisms have their actuators connected in series along an \"anthropomorphic arm\", whereby each actuator serves a single degree-of-freedom.  This connection type is anthropomorphic in nature, in that the bending of a linear actuator (or rotation of a joint) corresponds very closely with the displacement of a muscle arising from one bone and rotating/translating in the direction of an adjacent one across a hinge. You can think of this as the brachialis muscle, from the humerus to ulna of the elbow (left image below). Not all muscles (or joints in robotics parlance) have a single DOF however. The extensor carpi radialis longus, for example, span from the humerus to the back of carpal bones in the wrist, whereupon links are connected partly in parallel with one another, as opposed to basic serial connections.\n",
    "\n",
    "\n",
    "<div align=\"center\">\n",
    " <img src=\"https://www.rehabmypatient.com/media/uploads/articles/brachialis.jpg\" height=\"100px\" width=\"600px\">\n",
    " <img src=\"https://www.rehabmypatient.com/media/uploads/articles/extensor-carpi-radialis-longus.jpg\" height=\"100px\" width=\"600px\">\n",
    "</div>\n",
    "\n",
    "\n",
    "Certainly, vertebrates alone are not the only inspiration for robots. Modern robots are taking cues from invertebrates with possibly infinite degrees of freedom in their configuration, with designs borrowed from Cephalopods such as mollusks, cuttle fish and octopus. One of them is illustrated in your notes (Figure 2.2a) and reproduced below in the image to the left. On the right below is a Stewart-Gough platform that is substitutes the steel/rigid frames on typical 6-6 robots with elastic structures. \n",
    "\n",
    "<div align=\"center\">\n",
    " <img src=\"../Notes/figures/octopus.jpg\" height=\"100px\" width=\"600px\">\n",
    " <img src=\"../Notes/figures/soft_parallel.png\" height=\"50%\" width=\"600px\">\n",
    "</div>"
   ]
  },
  {
   "cell_type": "markdown",
   "id": "0244c812-6c7a-4f9b-8b72-a1989ed507c7",
   "metadata": {},
   "source": [
    "#### What applications do you envisage the Seiko RT3300 cylindrical robots could be used for?\n",
    "\n",
    "+ The SEIKO arm is a cylindrical robot with an RPP configurartion. Its last two prismatic links are resonably shorter than the **P** links of most 7-DOF arms. \n",
    "\n",
    "    -   As such, this gives it a higher actuation advantage along these two axes for precise, high throughput tasks (its cycle tyme is actually listed to be $0.76 secs$ -- which is a lot for a rigid robot). \n",
    "\n",
    "+ With a high vertical insertion force for its frame (140N), it is capable of high-speed packaging, and sealing.\n",
    "\n",
    "+ Because of its cylindrical frame, the **T** axis of the robot gives a range of $[-150^circ, 150^circ]$, allowing it a workspace coverage for tasks that require dextrous manipulation on a pick and place platform.\n",
    "\n",
    "+ In addition, it weighs a measly 138kg, thus lending itself to useful human-robot interactions.\n",
    "+ \n",
    "(Of course by reading the manufacturer's manual, you could imagine a host of applications for which you could employ this robot for your customized needs (or build your own robot)."
   ]
  },
  {
   "cell_type": "markdown",
   "id": "1ae0b193-95ff-43a8-9779-e882566b6e00",
   "metadata": {},
   "source": [
    "### A serial manipulator arm or a parallel manipulator for picking an iten from a conveyor belt? Why?\n",
    "\n",
    "Most real-world pick and place tasks utilize serial arms for good reason. They have the range of motions (their manipulability ellipsoid) needed to generate a good arm pose in the manipulator workspace  for  pick-and-place efficacy. It is also possible to have a Stewart platform with a serial manipulator positioned on its end effector platform for greater degree of dexterity as you manipulate the robot. See Figure 3.2 in Murray's book.\n",
    "\n"
   ]
  },
  {
   "cell_type": "code",
   "execution_count": null,
   "id": "40d42c70-a812-4536-b8e0-c9480fa0553f",
   "metadata": {},
   "outputs": [],
   "source": []
  }
 ],
 "metadata": {
  "kernelspec": {
   "display_name": "Python 3",
   "language": "python",
   "name": "python3"
  },
  "language_info": {
   "codemirror_mode": {
    "name": "ipython",
    "version": 3
   },
   "file_extension": ".py",
   "mimetype": "text/x-python",
   "name": "python",
   "nbconvert_exporter": "python",
   "pygments_lexer": "ipython3",
   "version": "3.7.10"
  }
 },
 "nbformat": 4,
 "nbformat_minor": 5
}
